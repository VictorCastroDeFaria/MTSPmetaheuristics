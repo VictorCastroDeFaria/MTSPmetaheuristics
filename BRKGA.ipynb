{
 "cells": [
  {
   "cell_type": "code",
   "execution_count": 82,
   "metadata": {},
   "outputs": [],
   "source": [
    "from mtspHeuristic import *\n",
    "import random"
   ]
  },
  {
   "cell_type": "code",
   "execution_count": 83,
   "metadata": {},
   "outputs": [
    {
     "data": {
      "text/plain": [
       "'\\na = generate_population(40, 5)\\na2 = a[2].copy()\\na[:5], fitness_function(a[0], cities_distances)\\n'"
      ]
     },
     "execution_count": 83,
     "metadata": {},
     "output_type": "execute_result"
    }
   ],
   "source": [
    "def generate_population(number_of_individuals, number_of_genes):\n",
    "    population = []\n",
    "    for _ in range(number_of_individuals):\n",
    "        population.append([round(random.random(),3) for __ in range(number_of_genes)])\n",
    "    return population\n",
    "'''\n",
    "a = generate_population(40, 5)\n",
    "a2 = a[2].copy()\n",
    "a[:5], fitness_function(a[0], cities_distances)\n",
    "'''"
   ]
  },
  {
   "cell_type": "code",
   "execution_count": 84,
   "metadata": {},
   "outputs": [],
   "source": [
    "def decoder_sequential_insertion(individual, number_of_salesmen, distance_matrix):\n",
    "    \n",
    "    indexed_individual = [(individual[item], item+2) for item in range(len(individual))] # Linear\n",
    "    indexed_individual.sort(key = lambda x: x[0]) # \"LogLinear\"\n",
    "    ordered_indexes = [item[1] for item in indexed_individual] # Linear\n",
    "    initial_cities = ordered_indexes[:number_of_salesmen]\n",
    "    other_cities = ordered_indexes[number_of_salesmen:]\n",
    "\n",
    "    initial_solutions = [[1,i,1] for i in initial_cities]\n",
    "    route_to_increment_index = 0\n",
    "    final_city = 0\n",
    "    city_index_to_insert = 0\n",
    "    max_distance = float(\"inf\")\n",
    "    for new_city in other_cities:\n",
    "        for route_index in range(0,len(initial_solutions)): # Para cada rota\n",
    "            route = initial_solutions[route_index]\n",
    "            for city_index in range(1,len(route)): # Para cada cidade já inserida na dita rota\n",
    "                city_in_route = route[city_index]\n",
    "                city_before_in_route = route[city_index-1]\n",
    "                insertion_cost = distance_matrix[city_in_route-1][new_city-1] + distance_matrix[new_city-1][city_before_in_route-1] - distance_matrix[city_in_route-1][city_before_in_route-1]\n",
    "                if insertion_cost < max_distance:\n",
    "                    max_distance = insertion_cost\n",
    "                    route_to_increment_index = route_index\n",
    "                    city_index_to_insert = city_index\n",
    "                    final_city = new_city\n",
    "        city_to_insert = final_city\n",
    "        initial_solutions[route_to_increment_index] = insert_in_vector(initial_solutions[route_to_increment_index], city_to_insert, city_index_to_insert)\n",
    "        # Reset das variáveis do problema\n",
    "        route_to_increment_index = 0\n",
    "        max_distance = float(\"inf\")\n",
    "    initial_solutions = [route[1:-1] for route in initial_solutions]\n",
    "    return initial_solutions\n",
    "\n",
    "def fitness_function(individual_solution, distance_matrix):\n",
    "    for route in individual_solution:\n",
    "        if len(route) == 0:\n",
    "            return 0\n",
    "    obj_function_vector = objective_function_vector_bf(individual_solution,distance_matrix)\n",
    "    return objective_function_minsum(obj_function_vector)"
   ]
  },
  {
   "cell_type": "code",
   "execution_count": 85,
   "metadata": {},
   "outputs": [],
   "source": [
    "def biased_crossover(parent_a, parent_b, probability):\n",
    "    child = []\n",
    "    for gene_a, gene_b in zip(parent_a, parent_b):\n",
    "        if random.random() < probability:\n",
    "            child.append(gene_a)\n",
    "        else:\n",
    "            child.append(gene_b)\n",
    "    return child"
   ]
  },
  {
   "cell_type": "code",
   "execution_count": 86,
   "metadata": {},
   "outputs": [
    {
     "name": "stdout",
     "output_type": "stream",
     "text": [
      "[[14], [8], [3, 10, 7, 2, 13, 4, 6, 15, 9, 12, 5, 11]]\n"
     ]
    }
   ],
   "source": [
    "cities_distances = [[0,8,5,10,6,3,13,2,10,6,3,4,9,6,17],\n",
    "         [8,0,9,6,12,7,4,9,15,9,10,6,5,9,11],\n",
    "         [5,9,0,10,9,9,7,18,7,4,7,3,11,4,10],\n",
    "         [10,6,10,0,18,2,10,6,5,4,9,12,8,8,10],\n",
    "         [6,12,9,18,0,9,10,11,11,12,6,5,6,8,9],\n",
    "         [3,7,9,2,9,0,6,8,9,10,5,2,7,10,6],\n",
    "         [13,4,7,10,10,6,0,12,8,3,7,4,10,6,9],\n",
    "         [2,9,18,6,11,8,12,0,7,3,6,18,17,9,2],\n",
    "         [10,15,7,5,11,9,8,7,0,10,8,3,14,10,3],\n",
    "         [6,9,4,4,12,10,3,3,10,0,12,5,9,6,3],\n",
    "         [3,10,7,9,6,5,7,6,8,12,0,19,8,8,11],\n",
    "         [4,6,3,12,5,2,4,18,3,5,19,0,12,2,9],\n",
    "         [9,5,11,8,6,7,10,17,14,9,8,12,0,5,6],\n",
    "         [6,9,4,8,8,10,6,9,10,6,8,2,5,0,2],\n",
    "         [17,11,10,10,9,6,9,2,3,3,11,9,6,2,0]]\n",
    "\n",
    "distance_matrix = cities_distances\n",
    "\n",
    "number_of_salesmen = 3\n",
    "num_of_genes = len(distance_matrix) - 1\n",
    "initial_population_amount = 200\n",
    "elite_fraction = 0.2\n",
    "population_elite = round(elite_fraction*initial_population_amount)\n",
    "population_mutants = 15\n",
    "biased_crossover_rate = 0.7\n",
    "number_of_generations = 3000\n",
    " \n",
    "population = generate_population(initial_population_amount,num_of_genes)\n",
    "population_decoded = [decoder_sequential_insertion(individual, number_of_salesmen, cities_distances) for individual in population]\n",
    "print(population_decoded[0])\n",
    "fitness_vector = [fitness_function(individual,cities_distances) for individual in population_decoded]\n",
    "[decoder_sequential_insertion(item, 3, cities_distances) for item in population]\n",
    "\n",
    "best_individual = population[0].copy()\n",
    "best_solution = population_decoded[0].copy()\n",
    "best_fit_function = fitness_vector[0]\n"
   ]
  },
  {
   "cell_type": "code",
   "execution_count": 87,
   "metadata": {},
   "outputs": [],
   "source": [
    "def BRKGA_MTSP(number_of_salesmen,num_of_genes, initial_population_amount, elite_fraction, population_mutants, biased_crossover_rate, number_of_generations, distance_matrix):\n",
    "    max_iterations = 50\n",
    "    best_iteration = 0\n",
    "    population = generate_population(initial_population_amount,num_of_genes)\n",
    "    population_decoded = [decoder_sequential_insertion(individual, number_of_salesmen, distance_matrix) for individual in population]\n",
    "    fitness_vector = [fitness_function(individual, distance_matrix) for individual in population_decoded]\n",
    "\n",
    "    best_individual = population[0].copy()\n",
    "    best_solution = population_decoded[0].copy()\n",
    "    best_fit_function = fitness_vector[0]\n",
    "\n",
    "    population_elite = round(elite_fraction*initial_population_amount)\n",
    "\n",
    "    for generation_number in range(number_of_generations):\n",
    "        mutants = generate_population(population_mutants,num_of_genes)\n",
    "        mutants_decoded = [decoder_sequential_insertion(mutant, number_of_salesmen, distance_matrix) for mutant in mutants]\n",
    "        fitness_vector_mutants = [fitness_function(mutant, distance_matrix) for mutant in mutants_decoded]\n",
    "\n",
    "        population += mutants\n",
    "        fitness_vector += fitness_vector_mutants\n",
    "\n",
    "        population_with_fit_function = []\n",
    "        for individual, fit_function in zip(population, fitness_vector):\n",
    "            population_with_fit_function.append([individual, fit_function])\n",
    "\n",
    "        population_with_fit_function.sort(key = lambda x: x[1])\n",
    "\n",
    "        '''\n",
    "        for item in population_with_fit_function:\n",
    "            print(item[1])\n",
    "            '''\n",
    "        '''\n",
    "        alpha = 0.2\n",
    "        fit_function_min = population_with_fit_function[0][1]\n",
    "        fit_function_max = population_with_fit_function[-1][1]\n",
    "        fit_function_gap = fit_function_max - fit_function_min\n",
    "        fit_function_min, fit_function_max, fit_function_gap\n",
    "        '''\n",
    "\n",
    "        generation_best_individual = population_with_fit_function[0][0].copy()\n",
    "        generation_best_solution = decoder_sequential_insertion(generation_best_individual, number_of_salesmen, distance_matrix)\n",
    "        generation_best_fit_function = population_with_fit_function[0][1]\n",
    "\n",
    "        if generation_best_fit_function < best_fit_function:\n",
    "            best_individual = generation_best_individual.copy()\n",
    "            best_solution = generation_best_solution.copy()\n",
    "            best_fit_function = generation_best_fit_function\n",
    "            print(\"Found new best in generation %d with fitness %d\" % (generation_number, best_fit_function))\n",
    "            best_iteration = generation_number\n",
    "            print(\"--------New generation until halt: \",max_iterations,\"------------------------------\")\n",
    "            print(\"\")\n",
    "            \n",
    "            \n",
    "\n",
    "        population_sorted = []\n",
    "\n",
    "        for individual in population_with_fit_function:\n",
    "            population_sorted.append(individual[0])\n",
    "\n",
    "        elite_population = population_sorted[:population_elite]\n",
    "        non_elite_population = population_sorted[population_elite:]\n",
    "\n",
    "        population = []\n",
    "\n",
    "        for new_individual in range(initial_population_amount):\n",
    "            parent_a = random.choice(elite_population)\n",
    "            parent_b = random.choice(non_elite_population)\n",
    "            child = biased_crossover(parent_a, parent_b, biased_crossover_rate)\n",
    "            population.append(child)\n",
    "\n",
    "        if generation_number - best_iteration >= max_iterations:\n",
    "            print(\"-----------TRAINING TERMINATED BEFORE FULL STOP AT GENERATION\",generation_number,\"--------------------\")\n",
    "            print(\"BEST INDIVIDUAL: \", best_individual)\n",
    "            print(\"BEST SOLUTION: \")\n",
    "            print_routes(best_solution)\n",
    "            print(\"Objective Function Vector:\", [calc_tour_length(route, distance_matrix) for route in best_solution])\n",
    "            print(\"BEST FITNESS FUNCTION: \", best_fit_function)\n",
    "            return\n",
    "\n",
    "        population_decoded = [decoder_sequential_insertion(individual, number_of_salesmen, distance_matrix) for individual in population]\n",
    "        fitness_vector = [fitness_function(individual,distance_matrix) for individual in population_decoded] \n",
    "    print(\"---------------------TRAINING TERMINATED AT GENERATION\",generation_number,\"----------------------------\")\n",
    "    print(\"BEST INDIVIDUAL: \", best_individual)\n",
    "    print(\"BEST SOLUTION: \")\n",
    "    print_routes(best_solution)\n",
    "    print(\"Objective Function Vector:\", [calc_tour_length(route, distance_matrix) for route in best_solution])\n",
    "    print(\"BEST FITNESS FUNCTION: \", best_fit_function)"
   ]
  },
  {
   "cell_type": "code",
   "execution_count": 88,
   "metadata": {},
   "outputs": [
    {
     "name": "stdout",
     "output_type": "stream",
     "text": [
      "Found new best in generation 0 with fitness 63\n",
      "--------New generation until halt:  50 ------------------------------\n",
      "\n",
      "Found new best in generation 1 with fitness 60\n",
      "--------New generation until halt:  51 ------------------------------\n",
      "\n",
      "Found new best in generation 2 with fitness 59\n",
      "--------New generation until halt:  53 ------------------------------\n",
      "\n",
      "Found new best in generation 6 with fitness 58\n",
      "--------New generation until halt:  59 ------------------------------\n",
      "\n",
      "-----------TRAINING TERMINATED BEFORE FULL STOP AT GENERATION 59 --------------------\n",
      "BEST INDIVIDUAL:  [0.512, 0.686, 0.186, 0.86, 0.21, 0.166, 0.13, 0.666, 0.712, 0.008, 0.944, 0.676, 0.98, 0.744]\n",
      "BEST SOLUTION: \n",
      "[11]\n",
      "[8]\n",
      "[6, 4, 9, 15, 14, 12, 3, 10, 7, 2, 13, 5]\n",
      "Objective Function Vector: [6, 4, 48]\n",
      "BEST FITNESS FUNCTION:  58\n"
     ]
    }
   ],
   "source": [
    "distance_matrix = cities_distances\n",
    "\n",
    "number_of_salesmen = 3\n",
    "num_of_genes = len(cities_distances)-1\n",
    "initial_population_amount = 300\n",
    "elite_fraction = 0.25\n",
    "population_mutants = 30\n",
    "biased_crossover_rate = 0.75\n",
    "number_of_generations = 2000\n",
    "\n",
    "\n",
    "BRKGA_MTSP(number_of_salesmen,num_of_genes, initial_population_amount, elite_fraction, population_mutants, biased_crossover_rate, number_of_generations,distance_matrix)\n"
   ]
  },
  {
   "cell_type": "code",
   "execution_count": 89,
   "metadata": {},
   "outputs": [
    {
     "data": {
      "text/plain": [
       "'\\n\\ndef generate_population_with_breakpoints(number_of_individuals, number_of_genes, number_of_salesmen):\\n    population = []\\n    for _ in range(number_of_individuals):\\n        individual = [(round(random.random(),3),__+2) for __ in range(number_of_genes)]\\n        individual = individual + [(round(random.random(),3),-1) for _ in range(number_of_salesmen-1)]\\n        population.append(individual)\\n    return population\\n\\n\\ndef decoder_with_breakpoints(individual):\\n   \\n    individual.sort(key = lambda x: x[0]) # \"LogLinear\"\\n    ordered_indexes = [item[1] for item in individual] # Linear\\n    \\n    # Etapa de construção da solução\\n    number_of_salesmen = 1\\n    for gene in ordered_indexes:\\n        if gene == -1:\\n            number_of_salesmen += 1 \\n    solution = [[] for _ in range(number_of_salesmen)]\\n    solution_iterator = 0\\n    for gene in ordered_indexes:\\n        if gene != -1:\\n            solution[solution_iterator].append(gene)\\n        else:\\n            solution_iterator += 1\\n    return solution\\n'"
      ]
     },
     "execution_count": 89,
     "metadata": {},
     "output_type": "execute_result"
    }
   ],
   "source": [
    "'''\n",
    "\n",
    "def generate_population_with_breakpoints(number_of_individuals, number_of_genes, number_of_salesmen):\n",
    "    population = []\n",
    "    for _ in range(number_of_individuals):\n",
    "        individual = [(round(random.random(),3),__+2) for __ in range(number_of_genes)]\n",
    "        individual = individual + [(round(random.random(),3),-1) for _ in range(number_of_salesmen-1)]\n",
    "        population.append(individual)\n",
    "    return population\n",
    "\n",
    "\n",
    "def decoder_with_breakpoints(individual):\n",
    "   \n",
    "    individual.sort(key = lambda x: x[0]) # \"LogLinear\"\n",
    "    ordered_indexes = [item[1] for item in individual] # Linear\n",
    "    \n",
    "    # Etapa de construção da solução\n",
    "    number_of_salesmen = 1\n",
    "    for gene in ordered_indexes:\n",
    "        if gene == -1:\n",
    "            number_of_salesmen += 1 \n",
    "    solution = [[] for _ in range(number_of_salesmen)]\n",
    "    solution_iterator = 0\n",
    "    for gene in ordered_indexes:\n",
    "        if gene != -1:\n",
    "            solution[solution_iterator].append(gene)\n",
    "        else:\n",
    "            solution_iterator += 1\n",
    "    return solution\n",
    "'''"
   ]
  },
  {
   "cell_type": "code",
   "execution_count": 90,
   "metadata": {},
   "outputs": [
    {
     "name": "stdout",
     "output_type": "stream",
     "text": [
      "set I_MATRIX/att532_10.txt\n",
      "set I_MATRIX/att532_5.txt\n",
      "set I_MATRIX/gtsp150_10.txt\n",
      "set I_MATRIX/gtsp150_20.txt\n",
      "set I_MATRIX/gtsp150_3.txt\n",
      "set I_MATRIX/gtsp150_30.txt\n",
      "set I_MATRIX/gtsp150_5.txt\n",
      "set I_MATRIX/kroa200_10.txt\n",
      "set I_MATRIX/kroa200_20.txt\n",
      "set I_MATRIX/kroa200_3.txt\n",
      "set I_MATRIX/kroa200_5.txt\n",
      "set I_MATRIX/lin318_10.txt\n",
      "set I_MATRIX/lin318_20.txt\n",
      "set I_MATRIX/lin318_3.txt\n",
      "set I_MATRIX/lin318_5.txt\n",
      "set I_MATRIX/mtsp100_10.txt\n",
      "set I_MATRIX/mtsp100_20.txt\n",
      "set I_MATRIX/mtsp100_3.txt\n",
      "set I_MATRIX/mtsp100_5.txt\n",
      "set I_MATRIX/mtsp150_10.txt\n",
      "set I_MATRIX/mtsp150_20.txt\n",
      "set I_MATRIX/mtsp150_3.txt\n",
      "set I_MATRIX/mtsp150_30.txt\n",
      "set I_MATRIX/mtsp150_5.txt\n",
      "set I_MATRIX/mtsp51_10.txt\n",
      "set I_MATRIX/mtsp51_3.txt\n",
      "set I_MATRIX/mtsp51_5.txt\n",
      "set I_MATRIX/pcb1173_10.txt\n",
      "set I_MATRIX/pcb1173_20.txt\n",
      "set I_MATRIX/pcb1173_3.txt\n",
      "set I_MATRIX/pcb1173_5.txt\n",
      "set I_MATRIX/rand100_10.txt\n",
      "set I_MATRIX/rand100_20.txt\n",
      "set I_MATRIX/rand100_3.txt\n",
      "set I_MATRIX/rand100_5.txt\n",
      "set I_MATRIX/rat783_10.txt\n",
      "set I_MATRIX/rat783_20.txt\n",
      "set I_MATRIX/rat783_3.txt\n",
      "set I_MATRIX/rat783_5.txt\n",
      "set II_MATRIX/d1655_10.txt\n",
      "set II_MATRIX/d1655_20.txt\n",
      "set II_MATRIX/d1655_3.txt\n",
      "set II_MATRIX/d1655_5.txt\n",
      "set II_MATRIX/fl1400_10.txt\n",
      "set II_MATRIX/fl1400_20.txt\n",
      "set II_MATRIX/fl1400_3.txt\n",
      "set II_MATRIX/fl1400_5.txt\n",
      "set II_MATRIX/fl3795_10.txt\n",
      "set II_MATRIX/fl3795_20.txt\n",
      "set II_MATRIX/fl3795_3.txt\n",
      "set II_MATRIX/fl3795_5.txt\n",
      "set II_MATRIX/fnl4461_10.txt\n",
      "set II_MATRIX/fnl4461_20.txt\n",
      "set II_MATRIX/fnl4461_3.txt\n",
      "set II_MATRIX/fnl4461_5.txt\n",
      "set II_MATRIX/nrw1379_10.txt\n",
      "set II_MATRIX/nrw1379_20.txt\n",
      "set II_MATRIX/nrw1379_3.txt\n",
      "set II_MATRIX/nrw1379_5.txt\n",
      "set II_MATRIX/pcb3038_10.txt\n",
      "set II_MATRIX/pcb3038_20.txt\n",
      "set II_MATRIX/pcb3038_3.txt\n",
      "set II_MATRIX/pcb3038_5.txt\n",
      "set II_MATRIX/pr2392_10.txt\n",
      "set II_MATRIX/pr2392_20.txt\n",
      "set II_MATRIX/pr2392_3.txt\n",
      "set II_MATRIX/pr2392_5.txt\n",
      "set II_MATRIX/rl5915_10.txt\n",
      "set II_MATRIX/rl5915_20.txt\n",
      "set II_MATRIX/rl5915_3.txt\n",
      "set II_MATRIX/rl5915_5.txt\n",
      "set II_MATRIX/u2152_10.txt\n",
      "set II_MATRIX/u2152_20.txt\n",
      "set II_MATRIX/u2152_3.txt\n",
      "set II_MATRIX/u2152_5.txt\n"
     ]
    }
   ],
   "source": [
    "import os\n",
    "\n",
    "path = ['set I_MATRIX', 'set II_MATRIX']\n",
    "\n",
    "for folder in path:\n",
    "    csv_files = os.listdir(folder)\n",
    "    for file in csv_files:\n",
    "        filename = f'{folder}/{file}'\n",
    "        print(filename)"
   ]
  },
  {
   "cell_type": "code",
   "execution_count": 91,
   "metadata": {},
   "outputs": [
    {
     "data": {
      "text/plain": [
       "3"
      ]
     },
     "execution_count": 91,
     "metadata": {},
     "output_type": "execute_result"
    }
   ],
   "source": [
    "filename = 'set I_MATRIX/mtsp51_3.txt'\n",
    "\n",
    "with open(filename) as f:\n",
    "    lines = f.readlines()\n",
    "    number_of_salesmen = int(filename.split('.')[0].split('_')[2])\n",
    "number_of_salesmen"
   ]
  },
  {
   "cell_type": "code",
   "execution_count": 92,
   "metadata": {},
   "outputs": [
    {
     "data": {
      "text/plain": [
       "'13.89\\n'"
      ]
     },
     "execution_count": 92,
     "metadata": {},
     "output_type": "execute_result"
    }
   ],
   "source": [
    "lines[0].split(\" \")[-1]"
   ]
  },
  {
   "cell_type": "code",
   "execution_count": 93,
   "metadata": {},
   "outputs": [],
   "source": [
    "distance_matrix = []\n",
    "\n",
    "for line in lines:\n",
    "    distance_matrix.append([float(item) for item in line.split(\" \")])\n",
    "\n",
    "num_of_genes = len(distance_matrix) - 1"
   ]
  },
  {
   "cell_type": "code",
   "execution_count": 94,
   "metadata": {},
   "outputs": [
    {
     "name": "stdout",
     "output_type": "stream",
     "text": [
      "Found new best in generation 0 with fitness 457\n",
      "--------New generation until halt:  50 ------------------------------\n",
      "\n",
      "Found new best in generation 4 with fitness 456\n",
      "--------New generation until halt:  54 ------------------------------\n",
      "\n",
      "Found new best in generation 6 with fitness 452\n",
      "--------New generation until halt:  60 ------------------------------\n",
      "\n",
      "Found new best in generation 10 with fitness 452\n",
      "--------New generation until halt:  70 ------------------------------\n",
      "\n",
      "Found new best in generation 14 with fitness 451\n",
      "--------New generation until halt:  84 ------------------------------\n",
      "\n",
      "Found new best in generation 15 with fitness 450\n",
      "--------New generation until halt:  99 ------------------------------\n",
      "\n",
      "Found new best in generation 16 with fitness 449\n",
      "--------New generation until halt:  115 ------------------------------\n",
      "\n",
      "Found new best in generation 17 with fitness 448\n",
      "--------New generation until halt:  132 ------------------------------\n",
      "\n",
      "Found new best in generation 27 with fitness 448\n",
      "--------New generation until halt:  159 ------------------------------\n",
      "\n",
      "Found new best in generation 28 with fitness 448\n",
      "--------New generation until halt:  187 ------------------------------\n",
      "\n",
      "Found new best in generation 32 with fitness 447\n",
      "--------New generation until halt:  219 ------------------------------\n",
      "\n",
      "-----------TRAINING TERMINATED BEFORE FULL STOP AT GENERATION 219 --------------------\n",
      "BEST INDIVIDUAL:  [0.979, 0.511, 0.895, 0.735, 0.359, 0.964, 0.667, 0.963, 0.63, 0.666, 0.528, 0.243, 0.446, 0.084, 0.928, 0.934, 0.7, 0.385, 0.619, 0.777, 0.002, 0.578, 0.425, 0.109, 0.661, 0.246, 0.655, 0.825, 0.381, 0.404, 0.017, 0.004, 0.037, 0.441, 0.149, 0.735, 0.211, 0.442, 0.388, 0.473, 0.082, 0.311, 0.505, 0.8, 0.748, 0.231, 0.722, 0.451, 0.373, 0.892]\n",
      "BEST SOLUTION: \n",
      "[22]\n",
      "[8, 26, 31, 28, 3, 36, 35, 20, 29, 21, 34, 30, 9, 50, 16, 2, 11, 38, 5, 49, 10, 39, 33, 45, 15, 37, 17, 44, 42, 19, 40, 41, 13, 25, 14, 24, 43, 7, 23, 48, 6, 18, 4, 47, 12, 46, 51, 27]\n",
      "[32]\n",
      "Objective Function Vector: [14.14, 421.41999999999996, 12.16]\n",
      "BEST FITNESS FUNCTION:  447.71999999999997\n",
      "Elapsed time: 96.52721786499023\n"
     ]
    }
   ],
   "source": [
    "import time\n",
    "init_time = time.time()\n",
    "\n",
    "BRKGA_MTSP(number_of_salesmen,\n",
    "            num_of_genes,\n",
    "            initial_population_amount, \n",
    "            elite_fraction, \n",
    "            population_mutants, \n",
    "            biased_crossover_rate, \n",
    "            number_of_generations,\n",
    "            distance_matrix)\n",
    "\n",
    "end_time = time.time()\n",
    "\n",
    "print(\"Elapsed time:\", end_time - init_time)"
   ]
  },
  {
   "cell_type": "code",
   "execution_count": 96,
   "metadata": {},
   "outputs": [
    {
     "data": {
      "text/plain": [
       "([16.12, 14.14, 415.95], 446.21)"
      ]
     },
     "execution_count": 96,
     "metadata": {},
     "output_type": "execute_result"
    }
   ],
   "source": [
    "solution = [[27],\n",
    "[22],\n",
    "[8, 26, 31, 28, 3, 36, 35, 20, 2, 29, 21, 16, 50, 34, 30, 9, 49, 10, 39, 33, 45, 15, 44, 42, 19, 40, 41, 13, 25, 14, 24, 43, 7, 23, 48, 6, 51, 46, 12, 47, 18, 4, 17, 37, 5, 38, 11, 32]]\n",
    "\n",
    "a = [calc_tour_length(item,distance_matrix) for item in solution]\n",
    "a, sum(a)"
   ]
  },
  {
   "cell_type": "markdown",
   "metadata": {},
   "source": [
    "### All time best: <br>\n",
    "\n",
    "BEST SOLUTION:  <br>\n",
    "[27] <br>\n",
    "[22] <br>\n",
    "[8, 26, 31, 28, 3, 36, 35, 20, 2, 29, 21, 16, 50, 34, 30, 9, 49, 10, 39, 33, 45, 15, 44, 42, 19, 40, 41, 13, 25, 14, 24, 43, 7, 23, 48, 6, 51, 46, 12, 47, 18, 4, 17, 37, 5, 38, 11, 32] <br>\n",
    "Objective Function Vector: [16.12, 14.14, 415.95] <br>\n",
    "BEST FITNESS FUNCTION:  446.21 <br>\n",
    "Elapsed time: 61.13212871551514 <br>\n",
    " <br>"
   ]
  },
  {
   "cell_type": "markdown",
   "metadata": {},
   "source": []
  }
 ],
 "metadata": {
  "interpreter": {
   "hash": "f9bc4b652b848242f69209cd0080417b2688107fd8dbea54d7ab4af63d585dd8"
  },
  "kernelspec": {
   "display_name": "Python 3.8.3 32-bit",
   "language": "python",
   "name": "python3"
  },
  "language_info": {
   "codemirror_mode": {
    "name": "ipython",
    "version": 3
   },
   "file_extension": ".py",
   "mimetype": "text/x-python",
   "name": "python",
   "nbconvert_exporter": "python",
   "pygments_lexer": "ipython3",
   "version": "3.8.3"
  },
  "orig_nbformat": 4
 },
 "nbformat": 4,
 "nbformat_minor": 2
}
