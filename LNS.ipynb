{
 "cells": [
  {
   "cell_type": "code",
   "execution_count": 314,
   "metadata": {},
   "outputs": [],
   "source": [
    "from mtspHeuristic import *\n",
    "from mtspConstruction import *\n",
    "import random\n",
    "import numpy as np"
   ]
  },
  {
   "cell_type": "code",
   "execution_count": 315,
   "metadata": {},
   "outputs": [],
   "source": [
    "def singleVertexRemoval(route, vertex, obj_function,distance_matrix):\n",
    "    # Premissa: vertex está em route\n",
    "    # Adição da origem da rota ao vetor de rota\n",
    "    route = [1] + route + [1]\n",
    "\n",
    "    # Etapa de busca sequencial\n",
    "    vertex_index = -1\n",
    "    for item in range(1,len(route)):\n",
    "        if route[item] == vertex:\n",
    "            vertex_index = item\n",
    "\n",
    "    city_before = route[vertex_index-1]\n",
    "    city_removed = route[vertex_index]\n",
    "    city_after = route[vertex_index+1]\n",
    "    #print(city_before, city_removed, city_after)\n",
    "    #city = 2\n",
    "    obj_function = obj_function - distance_matrix[city_before-1][city_removed-1] - distance_matrix[city_removed-1][city_after-1] + distance_matrix[city_before-1][city_after-1]\n",
    "    # Truncamento da rota, para retirar os índices 1 do começo e do fim\n",
    "    route = route[:vertex_index] + route[vertex_index+1:]\n",
    "    route = route[1:-1]\n",
    "    return route, obj_function"
   ]
  },
  {
   "cell_type": "code",
   "execution_count": 316,
   "metadata": {},
   "outputs": [],
   "source": [
    "def removalOfVertex(solutions,vertex_lists,obj_function,distance_matrix):\n",
    "    for vertex in vertex_lists:\n",
    "        for item in range(len(solutions)):\n",
    "            #print(\"vertex\", vertex, \"in route\", item, \"?\", vertex in solutions[item])\n",
    "            if vertex in solutions[item]:\n",
    "                solutions[item], obj_function[item] = singleVertexRemoval(solutions[item],vertex,obj_function[item],distance_matrix)\n",
    "    return solutions, obj_function"
   ]
  },
  {
   "cell_type": "code",
   "execution_count": 317,
   "metadata": {},
   "outputs": [
    {
     "data": {
      "text/plain": [
       "([[3, 6, 12, 14, 11, 15, 5], [8, 7], [10]], [52, 27, 12], [52, 27, 12])"
      ]
     },
     "execution_count": 317,
     "metadata": {},
     "output_type": "execute_result"
    }
   ],
   "source": [
    "test_graph = [[0,8,5,10,6,3,13,2,10,6,3,4,9,6,17],\n",
    "         [8,0,9,6,12,7,4,9,15,9,10,6,5,9,11],\n",
    "         [5,9,0,10,9,9,7,18,7,4,7,3,11,4,10],\n",
    "         [10,6,10,0,18,2,10,6,5,4,9,12,8,8,10],\n",
    "         [6,12,9,18,0,9,10,11,11,12,6,5,6,8,9],\n",
    "         [3,7,9,2,9,0,6,8,9,10,5,2,7,10,6],\n",
    "         [13,4,7,10,10,6,0,12,8,3,7,4,10,6,9],\n",
    "         [2,9,18,6,11,8,12,0,7,3,6,18,17,9,2],\n",
    "         [10,15,7,5,11,9,8,7,0,10,8,3,14,10,3],\n",
    "         [6,9,4,4,12,10,3,3,10,0,12,5,9,6,3],\n",
    "         [3,10,7,9,6,5,7,6,8,12,0,19,8,8,11],\n",
    "         [4,6,3,12,5,2,4,18,3,5,19,0,12,2,9],\n",
    "         [9,5,11,8,6,7,10,17,14,9,8,12,0,5,6],\n",
    "         [6,9,4,8,8,10,6,9,10,6,8,2,5,0,2],\n",
    "         [17,11,10,10,9,6,9,2,3,3,11,9,6,2,0]]\n",
    "\n",
    "solutions = [[3, 6, 13, 12, 14, 9, 11, 15, 5],\n",
    "[8, 4, 7],\n",
    "[2, 10]]\n",
    "\n",
    "obj_function = [79, 31, 23]\n",
    "\n",
    "a,b = removalOfVertex(solutions,[13,9,4,2],obj_function,test_graph)\n",
    "a, b, objective_function_vector_bf(a, test_graph)"
   ]
  },
  {
   "cell_type": "code",
   "execution_count": 319,
   "metadata": {},
   "outputs": [],
   "source": [
    "def destruction_reconstruction_LNS(solutions,obj_function,distance_matrix,alpha = 0.2,removal_amount = 3):\n",
    "    \n",
    "    solutions_copy = solutions.copy()\n",
    "    obj_function_copy = obj_function.copy()\n",
    "    \n",
    "    cities_amount = len(distance_matrix)\n",
    "    cities_to_be_removed = list(range(2,cities_amount+1))\n",
    "\n",
    "    # Etapa de escolha de vértices que não podem ser removidos\n",
    "    # (Evita rotas vazias) \n",
    "    for route in solutions_copy:\n",
    "        cities_to_be_removed.remove(random.choice(route))         \n",
    "\n",
    "    removed_cities = random.sample(cities_to_be_removed, removal_amount)\n",
    "\n",
    "    # Bugs encontrados pela maneira determinística (exclusão de \"rotas pequenas\"):\n",
    "    # Pode haver uma instância em que todas as cidades removidas estejam em uma mesma rota   \n",
    "\n",
    "    solutions_copy, obj_function_copy = removalOfVertex(solutions_copy,removed_cities,obj_function_copy,distance_matrix)\n",
    "\n",
    "    solutions_copy = [[1] + i + [1] for i in solutions_copy]\n",
    "\n",
    "    for city_candidate in removed_cities: # Para cada cidade removida\n",
    "        insertion_candidates = []\n",
    "        for route_index in range(len(solutions)): # Para cada rota\n",
    "            route = solutions_copy[route_index]\n",
    "            for city_index in range(1, len(route)): # Para cada cidade naquela rota\n",
    "                city_in_route = route[city_index]\n",
    "                city_before_in_route = route[city_index-1]\n",
    "                insertion_cost = distance_matrix[city_in_route-1][city_candidate-1] + distance_matrix[city_candidate-1][city_before_in_route-1] - distance_matrix[city_in_route-1][city_before_in_route-1]\n",
    "                insertion_candidates.append([insertion_cost, city_index, city_candidate, route_index])\n",
    "\n",
    "        insertion_candidates.sort(key=lambda x: x[0])\n",
    "        #print(insertion_candidates)\n",
    "        min_sol_value = insertion_candidates[0][0]\n",
    "        max_sol_value = insertion_candidates[-1][0]\n",
    "        gap_in_solutions = max_sol_value - min_sol_value\n",
    "\n",
    "        insertion_candidates_filtered = []\n",
    "\n",
    "        for item in insertion_candidates:\n",
    "            if item[0] <= min_sol_value + gap_in_solutions*alpha:\n",
    "                #print(item, \" \", min_sol_value + gap_in_solutions*alpha)\n",
    "                insertion_candidates_filtered.append(item)\n",
    "        #print(\"Filtered Candidates: \", insertion_candidates_filtered)\n",
    "\n",
    "        insertion_chosen_solution = random.choice(insertion_candidates_filtered)\n",
    "        obj_function_difference = insertion_chosen_solution[0]\n",
    "        city_index_to_insert = insertion_chosen_solution[1]\n",
    "        city_to_insert = insertion_chosen_solution[2]\n",
    "        route_to_increment_index = insertion_chosen_solution[3]\n",
    "\n",
    "        solutions_copy[route_to_increment_index] = insert_in_vector(solutions_copy[route_to_increment_index], city_to_insert, city_index_to_insert)\n",
    "        obj_function_copy[route_to_increment_index] += obj_function_difference\n",
    "    solutions_copy = [item[1:-1] for item in solutions_copy]\n",
    "    #print(\"Solutions: \")\n",
    "    #print_routes(solutions_copy)\n",
    "    return solutions_copy, obj_function_copy"
   ]
  },
  {
   "cell_type": "markdown",
   "metadata": {},
   "source": [
    "## Macro código de remoção por Worst Removal e Cluster Removal"
   ]
  },
  {
   "cell_type": "code",
   "execution_count": null,
   "metadata": {},
   "outputs": [],
   "source": [
    "#def WorstRemoval(solution, numToRemove):\n",
    "#    p = 4\n",
    "#    A = []\n",
    "#    ListRemovedCities = []\n",
    "#    # Para cada uma das rotas da EFO:\n",
    "#    for k in range(numToRemove):\n",
    "#        #Cria lista A ordenada por custo de remocao\n",
    "#        sorteio = random.rand()\n",
    "#        indice = int(len(A) * sorteio^(p))\n",
    "#        citieToRemove = A[indice]\n",
    "#        remove(solution, citieToRemove)\n",
    "#        A.remove(citieToRemove)\n",
    "#        ListRemovedCities.append(citieToRemove)\n",
    "#\n",
    "#    return ListRemovedCities\n",
    "#\n",
    "#def ClusterRemoval(solution, numToRemove):\n",
    "#    p = 4\n",
    "#    A = []\n",
    "#    citieRef = sample(listaDeCidades) # Sorteie uma cidade da sua lista\n",
    "#    ListRemovedCities = []\n",
    "#    #Crie aqui uma lista A orenada de acordo com o custo de distância das demais cidades à cidade cluster\n",
    "#    # (incluindo a cidade cluster)\n",
    "#    # Para cada uma das rotas da EFO:\n",
    "#    for k in range(numToRemove):\n",
    "#        sorteio = random.rand()\n",
    "#        indice = int(len(A) * sorteio^(p))\n",
    "#        citieToRemove = A[indice]\n",
    "#        remove(solution, citieToRemove)\n",
    "#        A.remove(citieToRemove)\n",
    "#        ListRemovedCities.append(citieToRemove)\n",
    "#\n",
    "#    return ListRemovedCities"
   ]
  },
  {
   "cell_type": "code",
   "execution_count": 320,
   "metadata": {},
   "outputs": [],
   "source": [
    "solutions = [[3, 6, 13, 12, 14, 9, 11, 15, 5],\n",
    "[8, 4, 7],\n",
    "[2, 10]]\n",
    "\n",
    "obj_function = [79, 31, 23]"
   ]
  },
  {
   "cell_type": "code",
   "execution_count": 321,
   "metadata": {},
   "outputs": [
    {
     "data": {
      "text/plain": [
       "([[3, 13, 12, 14, 9, 11, 15, 8], [6, 4, 7, 5], [2, 10]],\n",
       " [63, 31, 23],\n",
       " [63, 31, 23],\n",
       " [True, True, True])"
      ]
     },
     "execution_count": 321,
     "metadata": {},
     "output_type": "execute_result"
    }
   ],
   "source": [
    "distance_matrix = test_graph\n",
    "a, b = destruction_reconstruction_LNS(solutions,obj_function,distance_matrix)\n",
    "a, b, objective_function_vector_bf(a, distance_matrix), [i1 == i2 for (i1, i2) in zip(b, objective_function_vector_bf(a, distance_matrix))]"
   ]
  },
  {
   "cell_type": "markdown",
   "metadata": {},
   "source": [
    "# Etapa de Simulated Annealing"
   ]
  },
  {
   "cell_type": "code",
   "execution_count": 322,
   "metadata": {},
   "outputs": [
    {
     "name": "stdout",
     "output_type": "stream",
     "text": [
      "[3, 10, 7, 2, 12, 9, 4, 6, 8, 15, 13, 5]\n",
      "[11]\n",
      "[14]\n"
     ]
    }
   ],
   "source": [
    "T_initial = 50000000\n",
    "cooling_rate = 0.9\n",
    "max_iter = 1000\n",
    "T_minimum = 0.001\n",
    "max_iter_no_improve = 6000\n",
    "\n",
    "number_of_salesmen = 3\n",
    "solution, obj_function = greedy_insertion_construction(distance_matrix, number_of_salesmen)\n",
    "print_routes(solution)\n",
    "initial_OF = objective_function_minsum(obj_function)"
   ]
  },
  {
   "cell_type": "code",
   "execution_count": 308,
   "metadata": {},
   "outputs": [
    {
     "name": "stdout",
     "output_type": "stream",
     "text": [
      "Found best solution at T = 50000000.000 with value 71.000\n",
      "Found best solution at T = 50000000.000 with value 69.000\n",
      "Found best solution at T = 50000000.000 with value 68.000\n",
      "Found best solution at T = 50000000.000 with value 66.000\n",
      "Found best solution at T = 50000000.000 with value 64.000\n",
      "Found best solution at T = 50000000.000 with value 63.000\n",
      "Found best solution at T = 50000000.000 with value 61.000\n",
      "Found best solution at T = 49950000.000 with value 60.000\n",
      "Found best solution at T = 49950000.000 with value 59.000\n",
      "Found best solution at T = 49900050.000 with value 58.000\n",
      "Best OF: 58 \n",
      "Current OF after halt: 58\n",
      "Best Routes: \n",
      "[8]\n",
      "[11]\n",
      "[6, 4, 9, 15, 14, 12, 3, 10, 7, 2, 13, 5]\n",
      "Current Routes: \n",
      "[8]\n",
      "[11]\n",
      "[5, 13, 2, 7, 10, 3, 12, 14, 15, 9, 4, 6]\n"
     ]
    }
   ],
   "source": [
    "iter_number = 0\n",
    "Temperature = T_initial\n",
    "best_OF = initial_OF\n",
    "current_OF = initial_OF\n",
    "solution_current = solution.copy()\n",
    "obj_function_current = obj_function.copy()\n",
    "solution_best = solution.copy()\n",
    "obj_function_best = obj_function.copy()\n",
    "while(Temperature > T_minimum):\n",
    "    iter_number = 0\n",
    "    while(iter_number < max_iter):\n",
    "        # Parte específica\n",
    "        solution_rebuilt, obj_function_rebuilt = destruction_reconstruction_LNS(solution_current,obj_function_current,distance_matrix)\n",
    "        neighbor_OF = objective_function_minsum(obj_function_rebuilt)\n",
    "        if neighbor_OF < current_OF:\n",
    "            current_OF = neighbor_OF\n",
    "            solution_current = solution_rebuilt.copy()\n",
    "            obj_function_current = obj_function_rebuilt.copy()\n",
    "            if neighbor_OF < best_OF:\n",
    "                best_OF = neighbor_OF\n",
    "                solution_best = solution_rebuilt.copy()\n",
    "                obj_function_best = obj_function_rebuilt.copy()\n",
    "                print(\"Found best solution at T = %.3f with value %.3f\" % (Temperature, best_OF) )\n",
    "        #FIM\n",
    "        else:\n",
    "            delta = neighbor_OF - current_OF\n",
    "            if random.random() < np.exp(-delta/Temperature):\n",
    "                # Parte específica\n",
    "                current_OF = neighbor_OF\n",
    "                solution_current = solution_rebuilt.copy()\n",
    "                obj_function_current = obj_function_rebuilt.copy()\n",
    "                # FIM\n",
    "        iter_number += 1\n",
    "    #print(\"Iter done\")\n",
    "    Temperature *= cooling_rate\n",
    "                \n",
    "\n",
    "print(\"Best OF: %d \\nCurrent OF after halt: %d\" % (best_OF, current_OF))\n",
    "print(\"Best Routes: \")\n",
    "print_routes(solution_best)\n",
    "print(\"Current Routes: \")\n",
    "print_routes(solution_current)"
   ]
  },
  {
   "cell_type": "code",
   "execution_count": 309,
   "metadata": {},
   "outputs": [
    {
     "name": "stdout",
     "output_type": "stream",
     "text": [
      "Best OF: 58 \n",
      "Current OF after halt: 58\n",
      "Best Routes: \n",
      "[8]\n",
      "[11]\n",
      "[6, 4, 9, 15, 14, 12, 3, 10, 7, 2, 13, 5]\n",
      "Current Routes: \n",
      "[8]\n",
      "[11]\n",
      "[5, 13, 2, 7, 10, 3, 12, 14, 15, 9, 4, 6]\n",
      "With objective function of 58\n"
     ]
    }
   ],
   "source": [
    "print(\"Best OF: %d \\nCurrent OF after halt: %d\" % (best_OF, current_OF))\n",
    "print(\"Best Routes: \")\n",
    "print_routes(solution_best)\n",
    "\n",
    "print(\"Current Routes: \")\n",
    "print_routes(solution_current)\n",
    "print(\"With objective function of\",current_OF)"
   ]
  },
  {
   "cell_type": "markdown",
   "metadata": {},
   "source": [
    "### All time best (3 salesmen):\n",
    "\n",
    "Metaheuristic: LNS (Large Neighborhood Search)<br>\n",
    "Best OF: 58 <br>\n",
    "Current OF after halt: 58 <br>\n",
    "Best Routes: <br>\n",
    "[8]<br>\n",
    "[11]<br>\n",
    "[6, 4, 9, 15, 14, 12, 3, 10, 7, 2, 13, 5]<br> <br>\n",
    "Current Routes: <br>\n",
    "[8] <br>\n",
    "[11] <br>\n",
    "[5, 13, 2, 7, 10, 3, 12, 14, 15, 9, 4, 6] <br>\n",
    "With objective function of 58\n",
    "#### ---------------------------------------------------------------\n",
    "Metaheuristic: BRKGA (_Biased Random Key Genetic Algorithm_)<br> \n",
    "Best routes: <br> \n",
    "[11]<br> \n",
    "[6, 4, 9, 15, 14, 12, 3, 10, 7, 2, 13, 5]<br> \n",
    "[8]<br> \n",
    "With objective function of 58<br> \n"
   ]
  },
  {
   "cell_type": "code",
   "execution_count": 1,
   "metadata": {},
   "outputs": [
    {
     "ename": "NameError",
     "evalue": "name 'random' is not defined",
     "output_type": "error",
     "traceback": [
      "\u001b[1;31m---------------------------------------------------------------------------\u001b[0m",
      "\u001b[1;31mNameError\u001b[0m                                 Traceback (most recent call last)",
      "\u001b[1;32m<ipython-input-1-295474c5c026>\u001b[0m in \u001b[0;36m<module>\u001b[1;34m\u001b[0m\n\u001b[0;32m      1\u001b[0m \u001b[1;31m# random removal\u001b[0m\u001b[1;33m\u001b[0m\u001b[1;33m\u001b[0m\u001b[1;33m\u001b[0m\u001b[0m\n\u001b[0;32m      2\u001b[0m \u001b[0mL_minus\u001b[0m \u001b[1;33m=\u001b[0m \u001b[1;33m[\u001b[0m\u001b[1;33m]\u001b[0m\u001b[1;33m\u001b[0m\u001b[1;33m\u001b[0m\u001b[0m\n\u001b[1;32m----> 3\u001b[1;33m \u001b[0mbeta\u001b[0m \u001b[1;33m=\u001b[0m \u001b[0mround\u001b[0m\u001b[1;33m(\u001b[0m\u001b[0mrandom\u001b[0m\u001b[1;33m.\u001b[0m\u001b[0mrandom\u001b[0m\u001b[1;33m(\u001b[0m\u001b[1;33m)\u001b[0m\u001b[1;33m*\u001b[0m\u001b[1;36m0.3\u001b[0m\u001b[1;33m+\u001b[0m\u001b[1;36m0.1\u001b[0m\u001b[1;33m,\u001b[0m\u001b[1;36m2\u001b[0m\u001b[1;33m)\u001b[0m\u001b[1;33m\u001b[0m\u001b[1;33m\u001b[0m\u001b[0m\n\u001b[0m\u001b[0;32m      4\u001b[0m \u001b[0mbeta\u001b[0m\u001b[1;33m\u001b[0m\u001b[1;33m\u001b[0m\u001b[0m\n",
      "\u001b[1;31mNameError\u001b[0m: name 'random' is not defined"
     ]
    }
   ],
   "source": [
    "# random removal\n",
    "L_minus = []\n",
    "beta = round(random.random()*0.3+0.1,2)\n",
    "beta"
   ]
  },
  {
   "cell_type": "code",
   "execution_count": 323,
   "metadata": {},
   "outputs": [
    {
     "data": {
      "text/plain": [
       "[4, 6, 48]"
      ]
     },
     "execution_count": 323,
     "metadata": {},
     "output_type": "execute_result"
    }
   ],
   "source": [
    "objective_function_vector_bf(solution_current,test_graph)"
   ]
  }
 ],
 "metadata": {
  "interpreter": {
   "hash": "f9bc4b652b848242f69209cd0080417b2688107fd8dbea54d7ab4af63d585dd8"
  },
  "kernelspec": {
   "display_name": "Python 3.8.3 32-bit",
   "language": "python",
   "name": "python3"
  },
  "language_info": {
   "codemirror_mode": {
    "name": "ipython",
    "version": 3
   },
   "file_extension": ".py",
   "mimetype": "text/x-python",
   "name": "python",
   "nbconvert_exporter": "python",
   "pygments_lexer": "ipython3",
   "version": "3.8.3"
  },
  "orig_nbformat": 4
 },
 "nbformat": 4,
 "nbformat_minor": 2
}
