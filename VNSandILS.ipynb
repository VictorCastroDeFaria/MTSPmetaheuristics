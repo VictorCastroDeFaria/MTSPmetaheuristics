{
 "cells": [
  {
   "cell_type": "code",
   "execution_count": 243,
   "metadata": {},
   "outputs": [],
   "source": [
    "from mtspHeuristic import *\n",
    "from mtspLocalSearch import *\n",
    "from mtspConstruction import *\n",
    "import random"
   ]
  },
  {
   "cell_type": "code",
   "execution_count": 244,
   "metadata": {},
   "outputs": [],
   "source": [
    "def localSearchProcedure(solution, obj_function, distance_matrix, number_of_iterations = 10):\n",
    "    iterations = 0\n",
    "    while iterations < number_of_iterations:\n",
    "        solution, obj_function = local_search_swap_interroute(solution, obj_function, distance_matrix)\n",
    "        solution, obj_function = local_search_shift_interroute(solution, obj_function, distance_matrix)\n",
    "        solution, obj_function = local_search_swap_intraroute(solution, obj_function, distance_matrix)\n",
    "        solution, obj_function = local_search_shift_intraroute(solution, obj_function, distance_matrix)\n",
    "        iterations += 1\n",
    "    return solution, obj_function"
   ]
  },
  {
   "cell_type": "code",
   "execution_count": 245,
   "metadata": {},
   "outputs": [],
   "source": [
    "test_graph = [[0,8,5,10,6,3,13,2,10,6,3,4,9,6,17],\n",
    "         [8,0,9,6,12,7,4,9,15,9,10,6,5,9,11],\n",
    "         [5,9,0,10,9,9,7,18,7,4,7,3,11,4,10],\n",
    "         [10,6,10,0,18,2,10,6,5,4,9,12,8,8,10],\n",
    "         [6,12,9,18,0,9,10,11,11,12,6,5,6,8,9],\n",
    "         [3,7,9,2,9,0,6,8,9,10,5,2,7,10,6],\n",
    "         [13,4,7,10,10,6,0,12,8,3,7,4,10,6,9],\n",
    "         [2,9,18,6,11,8,12,0,7,3,6,18,17,9,2],\n",
    "         [10,15,7,5,11,9,8,7,0,10,8,3,14,10,3],\n",
    "         [6,9,4,4,12,10,3,3,10,0,12,5,9,6,3],\n",
    "         [3,10,7,9,6,5,7,6,8,12,0,19,8,8,11],\n",
    "         [4,6,3,12,5,2,4,18,3,5,19,0,12,2,9],\n",
    "         [9,5,11,8,6,7,10,17,14,9,8,12,0,5,6],\n",
    "         [6,9,4,8,8,10,6,9,10,6,8,2,5,0,2],\n",
    "         [17,11,10,10,9,6,9,2,3,3,11,9,6,2,0]]\n",
    "\n",
    "number_of_salesmen = 3\n",
    "solution, obj_function = greedy_insertion_construction(test_graph, number_of_salesmen)"
   ]
  },
  {
   "cell_type": "markdown",
   "metadata": {},
   "source": [
    "#### Testing Disturbance Procedure Function"
   ]
  },
  {
   "cell_type": "code",
   "execution_count": 246,
   "metadata": {},
   "outputs": [],
   "source": [
    "def disturbanceProcedure(solution, obj_function, distance_matrix):\n",
    "    solution, obj_function = generate_random_neighbor_shift_interroute(solution, obj_function, distance_matrix)\n",
    "    solution, obj_function = generate_random_neighbor_swap_interroute(solution, obj_function, distance_matrix)\n",
    "    solution, obj_function = generate_random_neighbor_shift_intraroute(solution, obj_function, distance_matrix)\n",
    "    solution, obj_function = generate_random_neighbor_swap_intraroute(solution, obj_function, distance_matrix)\n",
    "    return solution, obj_function"
   ]
  },
  {
   "cell_type": "code",
   "execution_count": 247,
   "metadata": {},
   "outputs": [
    {
     "name": "stdout",
     "output_type": "stream",
     "text": [
      "[44, 47, 23]\n",
      "[[10, 4, 9, 12, 3], [6, 8, 2, 13, 15, 14, 5], [7, 11]] [26, 47, 23] [26, 47, 23] 96\n"
     ]
    },
    {
     "data": {
      "text/plain": [
       "([[4, 12, 9, 10, 3], [6, 8, 2, 13, 15, 14, 5], [7, 11]],\n",
       " [44, 47, 23],\n",
       " [44, 47, 23],\n",
       " 114)"
      ]
     },
     "execution_count": 247,
     "metadata": {},
     "output_type": "execute_result"
    }
   ],
   "source": [
    "a, b = disturbanceProcedure(solution, obj_function, test_graph)\n",
    "print(b)\n",
    "print(solution, obj_function, objective_function_vector_bf(solution,test_graph), sum(obj_function))\n",
    "a, b, objective_function_vector_bf(a, test_graph), sum(b)"
   ]
  },
  {
   "cell_type": "markdown",
   "metadata": {},
   "source": [
    "### Variable Neighborhood Descent"
   ]
  },
  {
   "cell_type": "code",
   "execution_count": 248,
   "metadata": {},
   "outputs": [],
   "source": [
    "def variableNeighborhoodDescent(solution, obj_function, distance_matrix, num_iterations = 1000):\n",
    "    k = 0\n",
    "    iterations = 0\n",
    "    solution_current = solution.copy()\n",
    "    obj_function_vector_current = obj_function.copy()\n",
    "    obj_function_current = objective_function_minsum(obj_function)\n",
    "    best_solution = solution.copy()\n",
    "    best_OF_vector = obj_function.copy()\n",
    "    best_OF = objective_function_minsum(best_OF_vector)\n",
    "    \n",
    "    #Etapa de busca em vizinhanças variáveis\n",
    "    while iterations < num_iterations and k < 5:\n",
    "        if k == 0:\n",
    "            neighbor_sol, neighbor_OF = local_search_swap_intraroute(solution_current,obj_function_vector_current,distance_matrix)\n",
    "        if k == 1:\n",
    "            neighbor_sol, neighbor_OF = local_search_two_opt(solution_current,obj_function_vector_current,distance_matrix)\n",
    "        if k == 2:\n",
    "            neighbor_sol, neighbor_OF = local_search_shift_intraroute(solution_current,obj_function_vector_current,distance_matrix)\n",
    "        if k == 3:\n",
    "            neighbor_sol, neighbor_OF = local_search_swap_interroute(solution_current,obj_function_vector_current,distance_matrix)\n",
    "        if k == 4:\n",
    "            neighbor_sol, neighbor_OF = local_search_shift_interroute(solution_current,obj_function_vector_current,distance_matrix) \n",
    "        \n",
    "        #Etapa de avaliação da solução\n",
    "        if objective_function_minsum(neighbor_OF) < obj_function_current:\n",
    "            solution_current = neighbor_sol.copy()\n",
    "            obj_function_vector_current = neighbor_OF.copy()\n",
    "            obj_function_current = objective_function_minsum(obj_function_vector_current)\n",
    "\n",
    "            if objective_function_minsum(neighbor_OF) < best_OF:\n",
    "                best_OF_vector = obj_function_vector_current.copy()\n",
    "                best_solution = solution_current.copy()\n",
    "                best_OF = objective_function_minsum(best_OF_vector)\n",
    "                #print(\"found better solution with OF calc\", best_OF, \"and OF True\", objective_function_vector_bf(best_solution,distance_matrix))\n",
    "            k = 0\n",
    "        else: # Não houve melhoria\n",
    "            k += 1\n",
    "        #print(\"k = %d at iteration %d\" % (k, iterations))\n",
    "        iterations += 1\n",
    "    return best_solution, best_OF_vector"
   ]
  },
  {
   "cell_type": "code",
   "execution_count": 249,
   "metadata": {},
   "outputs": [
    {
     "name": "stdout",
     "output_type": "stream",
     "text": [
      "[34, 27, 6]\n",
      "[[10, 4, 9, 12, 3], [6, 8, 2, 13, 15, 14, 5], [7, 11]] [26, 47, 23] [26, 47, 23]\n"
     ]
    },
    {
     "data": {
      "text/plain": [
       "([[5, 12, 9, 7, 10, 3], [8, 15, 14, 13, 2, 4, 6], [11]],\n",
       " [34, 27, 6],\n",
       " [34, 27, 6],\n",
       " 67)"
      ]
     },
     "execution_count": 249,
     "metadata": {},
     "output_type": "execute_result"
    }
   ],
   "source": [
    "a, b = variableNeighborhoodDescent(solution, obj_function, test_graph)\n",
    "print(b)\n",
    "print(solution, obj_function, objective_function_vector_bf(solution,test_graph))\n",
    "a, b, objective_function_vector_bf(a, test_graph), sum(b)"
   ]
  },
  {
   "cell_type": "markdown",
   "metadata": {},
   "source": [
    "### Variable Neighborhood Search <br>\n",
    "(com reinício em perturbação de soluções correntes) <br> (with disturbance procedure on current solutions as restart) "
   ]
  },
  {
   "cell_type": "code",
   "execution_count": 250,
   "metadata": {},
   "outputs": [],
   "source": [
    "def variableNeighborhoodSearch(solution, obj_function, distance_matrix,num_iterations = 1000):\n",
    "    k = 0\n",
    "    iterations = 0\n",
    "    solution_current = solution.copy()\n",
    "    obj_function_vector_current = obj_function.copy()\n",
    "    obj_function_current = objective_function_minsum(obj_function_vector_current)\n",
    "    flag_have_better_solutions = False\n",
    "    best_solution = solution.copy()\n",
    "    best_OF_vector = obj_function.copy()\n",
    "    best_OF = objective_function_minsum(best_OF_vector)\n",
    "    \n",
    "    #Etapa de geração de vizinhanças\n",
    "    while iterations < num_iterations:\n",
    "        if flag_have_better_solutions == False:\n",
    "            if k == 0:\n",
    "                neighbor_sol, neighbor_OF = generate_random_neighbor_swap_intraroute(solution_current,obj_function_vector_current,distance_matrix)\n",
    "            if k == 1:\n",
    "                neighbor_sol, neighbor_OF = generate_random_neighbor_two_opt(solution_current,obj_function_vector_current,distance_matrix)\n",
    "            if k == 2:\n",
    "                neighbor_sol, neighbor_OF = generate_random_neighbor_shift_intraroute(solution_current,obj_function_vector_current,distance_matrix)\n",
    "            if k == 3:\n",
    "                neighbor_sol, neighbor_OF = generate_random_neighbor_swap_interroute(solution_current,obj_function_vector_current,distance_matrix)\n",
    "            if k == 4:\n",
    "                neighbor_sol, neighbor_OF = generate_random_neighbor_shift_interroute(solution_current,obj_function_vector_current,distance_matrix) \n",
    "        \n",
    "        #Etapa de busca\n",
    "        neighbor_sol, neighbor_OF = localSearchProcedure(solution, obj_function, distance_matrix)\n",
    "\n",
    "        if objective_function_minsum(neighbor_OF) < obj_function_current:\n",
    "            solution_current = neighbor_sol.copy()\n",
    "            obj_function_vector_current = neighbor_OF.copy()\n",
    "            obj_function_current = objective_function_minsum(obj_function_vector_current)\n",
    "\n",
    "            if objective_function_minsum(neighbor_OF) < best_OF:\n",
    "                best_OF_vector = obj_function_vector_current.copy()\n",
    "                best_solution = solution_current.copy()\n",
    "                best_OF = objective_function_minsum(best_OF_vector)\n",
    "                #print(\"found better solution with OF calc\", best_OF, \"and OF True\", objective_function_vector_bf(best_solution,distance_matrix))\n",
    "            flag_have_better_solutions = True\n",
    "\n",
    "            k = 0\n",
    "        else:\n",
    "            flag_have_better_solutions = False\n",
    "            k += 1\n",
    "\n",
    "        if k == 5: # Etapa de reinício aleatório\n",
    "            k = 0\n",
    "            solution_current, obj_function_vector_current = disturbanceProcedure(solution_current, obj_function_vector_current, distance_matrix)\n",
    "            obj_function_current = objective_function_minsum(obj_function_vector_current)\n",
    "\n",
    "        iterations += 1\n",
    "    return best_solution, best_OF_vector"
   ]
  },
  {
   "cell_type": "code",
   "execution_count": 251,
   "metadata": {},
   "outputs": [
    {
     "name": "stdout",
     "output_type": "stream",
     "text": [
      "[17, 31, 20]\n",
      "[[10, 4, 9, 12, 3], [6, 8, 2, 13, 15, 14, 5], [7, 11]] [26, 47, 23] [26, 47, 23]\n"
     ]
    },
    {
     "data": {
      "text/plain": [
       "([[6, 4, 9, 12], [8, 15, 10, 7, 2, 13, 5], [14, 3, 11]],\n",
       " [17, 31, 20],\n",
       " [17, 31, 20],\n",
       " 68)"
      ]
     },
     "execution_count": 251,
     "metadata": {},
     "output_type": "execute_result"
    }
   ],
   "source": [
    "a, b = variableNeighborhoodSearch(solution, obj_function, test_graph)\n",
    "print(b)\n",
    "print(solution, obj_function, objective_function_vector_bf(solution,test_graph))\n",
    "a, b, objective_function_vector_bf(a, test_graph), sum(b)"
   ]
  },
  {
   "cell_type": "markdown",
   "metadata": {},
   "source": [
    "### Iterated Local Search"
   ]
  },
  {
   "cell_type": "code",
   "execution_count": 252,
   "metadata": {},
   "outputs": [],
   "source": [
    "def iteratedLocalSearch(solution, obj_function, distance_matrix, num_iterations = 2000):\n",
    "    k = 0\n",
    "    iterations = 0\n",
    "    solution_current = solution.copy()\n",
    "    obj_function_vector_current = obj_function.copy()\n",
    "    obj_function_current = objective_function_minsum(obj_function_vector_current)\n",
    "    best_solution = solution.copy()\n",
    "    best_OF_vector = obj_function.copy()\n",
    "    best_OF = objective_function_minsum(best_OF_vector)\n",
    "    while(iterations < num_iterations):\n",
    "        neighbor_sol, neighbor_OF = localSearchProcedure(solution_current, obj_function_vector_current, distance_matrix)\n",
    "        if objective_function_minsum(neighbor_OF) < obj_function_current:\n",
    "            solution_current = neighbor_sol.copy()\n",
    "            obj_function_vector_current = neighbor_OF.copy()\n",
    "            obj_function_current = objective_function_minsum(obj_function_vector_current)\n",
    "            \n",
    "            if obj_function_current < best_OF:\n",
    "                best_OF_vector = obj_function_vector_current.copy()\n",
    "                best_solution = solution_current.copy()\n",
    "                best_OF = obj_function_current\n",
    "            #Perturbação da solução\n",
    "            solution, obj_function = disturbanceProcedure(solution, obj_function,distance_matrix)\n",
    "        iterations += 1\n",
    "\n",
    "    return best_solution, best_OF_vector"
   ]
  },
  {
   "cell_type": "code",
   "execution_count": 253,
   "metadata": {},
   "outputs": [
    {
     "name": "stdout",
     "output_type": "stream",
     "text": [
      "[17, 31, 20]\n",
      "[[7, 4, 9, 3], [12, 6, 8, 2, 13, 15, 14, 5], [10, 11]] [40, 50, 21] [40, 50, 21]\n"
     ]
    },
    {
     "data": {
      "text/plain": [
       "([[6, 4, 9, 12], [8, 15, 10, 7, 2, 13, 5], [14, 3, 11]],\n",
       " [17, 31, 20],\n",
       " [17, 31, 20],\n",
       " 68)"
      ]
     },
     "execution_count": 253,
     "metadata": {},
     "output_type": "execute_result"
    }
   ],
   "source": [
    "a, b = iteratedLocalSearch(solution, obj_function, test_graph)\n",
    "print(b)\n",
    "print(solution, obj_function, objective_function_vector_bf(solution,test_graph))\n",
    "a, b, objective_function_vector_bf(a, test_graph), sum(b)"
   ]
  }
 ],
 "metadata": {
  "interpreter": {
   "hash": "f9bc4b652b848242f69209cd0080417b2688107fd8dbea54d7ab4af63d585dd8"
  },
  "kernelspec": {
   "display_name": "Python 3.8.3 32-bit",
   "language": "python",
   "name": "python3"
  },
  "language_info": {
   "codemirror_mode": {
    "name": "ipython",
    "version": 3
   },
   "file_extension": ".py",
   "mimetype": "text/x-python",
   "name": "python",
   "nbconvert_exporter": "python",
   "pygments_lexer": "ipython3",
   "version": "3.8.3"
  },
  "orig_nbformat": 4
 },
 "nbformat": 4,
 "nbformat_minor": 2
}
