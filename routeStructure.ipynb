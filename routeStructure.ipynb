{
 "cells": [
  {
   "cell_type": "code",
   "execution_count": 44,
   "metadata": {},
   "outputs": [],
   "source": [
    "import random\n",
    "import numpy as np\n",
    "from mtspHeuristic import *\n",
    "from mtspConstruction import *"
   ]
  },
  {
   "cell_type": "code",
   "execution_count": 55,
   "metadata": {},
   "outputs": [
    {
     "name": "stdout",
     "output_type": "stream",
     "text": [
      "[0, 8, 5, 10, 6, 3, 13, 2, 10, 6, 3, 4, 9, 6, 17]\n",
      "[8, 0, 9, 6, 12, 7, 4, 9, 15, 9, 10, 6, 5, 9, 11]\n",
      "[5, 9, 0, 10, 9, 9, 7, 18, 7, 4, 7, 3, 11, 4, 10]\n",
      "[10, 6, 10, 0, 18, 2, 10, 6, 5, 4, 9, 12, 8, 8, 10]\n",
      "[6, 12, 9, 18, 0, 9, 10, 11, 11, 12, 6, 5, 6, 8, 9]\n",
      "[3, 7, 9, 2, 9, 0, 6, 8, 9, 10, 5, 2, 7, 10, 6]\n",
      "[13, 4, 7, 10, 10, 6, 0, 12, 8, 3, 7, 4, 10, 6, 9]\n",
      "[2, 9, 18, 6, 11, 8, 12, 0, 7, 3, 6, 18, 17, 9, 2]\n",
      "[10, 15, 7, 5, 11, 9, 8, 7, 0, 10, 8, 3, 14, 10, 3]\n",
      "[6, 9, 4, 4, 12, 10, 3, 3, 10, 0, 12, 5, 9, 6, 3]\n",
      "[3, 10, 7, 9, 6, 5, 7, 6, 8, 12, 0, 19, 8, 8, 11]\n",
      "[4, 6, 3, 12, 5, 2, 4, 18, 3, 5, 19, 0, 12, 2, 9]\n",
      "[9, 5, 11, 8, 6, 7, 10, 17, 14, 9, 8, 12, 0, 5, 6]\n",
      "[6, 9, 4, 8, 8, 10, 6, 9, 10, 6, 8, 2, 5, 0, 2]\n",
      "[17, 11, 10, 10, 9, 6, 9, 2, 3, 3, 11, 9, 6, 2, 0]\n"
     ]
    }
   ],
   "source": [
    "cities_distances = [[0,8,5,10,6,3,13,2,10,6,3,4,9,6,17],\n",
    "         [8,0,9,6,12,7,4,9,15,9,10,6,5,9,11],\n",
    "         [5,9,0,10,9,9,7,18,7,4,7,3,11,4,10],\n",
    "         [10,6,10,0,18,2,10,6,5,4,9,12,8,8,10],\n",
    "         [6,12,9,18,0,9,10,11,11,12,6,5,6,8,9],\n",
    "         [3,7,9,2,9,0,6,8,9,10,5,2,7,10,6],\n",
    "         [13,4,7,10,10,6,0,12,8,3,7,4,10,6,9],\n",
    "         [2,9,18,6,11,8,12,0,7,3,6,18,17,9,2],\n",
    "         [10,15,7,5,11,9,8,7,0,10,8,3,14,10,3],\n",
    "         [6,9,4,4,12,10,3,3,10,0,12,5,9,6,3],\n",
    "         [3,10,7,9,6,5,7,6,8,12,0,19,8,8,11],\n",
    "         [4,6,3,12,5,2,4,18,3,5,19,0,12,2,9],\n",
    "         [9,5,11,8,6,7,10,17,14,9,8,12,0,5,6],\n",
    "         [6,9,4,8,8,10,6,9,10,6,8,2,5,0,2],\n",
    "         [17,11,10,10,9,6,9,2,3,3,11,9,6,2,0]]\n",
    "\n",
    "# Disposição das linhas da matriz de distâncias\n",
    "print_routes(cities_distances)\n"
   ]
  },
  {
   "cell_type": "code",
   "execution_count": 75,
   "metadata": {},
   "outputs": [
    {
     "name": "stdout",
     "output_type": "stream",
     "text": [
      "[9, 7, 4, 2, 11, 14, 13]\n",
      "[10, 15, 12, 8]\n",
      "[3, 5, 6]\n"
     ]
    }
   ],
   "source": [
    "number_of_salesmen = 3\n",
    "cities = [i for i in range(2,len(cities_distances)+1)]\n",
    "solutions = random_construction(cities, number_of_salesmen)\n",
    "print_routes(solutions)"
   ]
  },
  {
   "cell_type": "code",
   "execution_count": 47,
   "metadata": {},
   "outputs": [
    {
     "name": "stdout",
     "output_type": "stream",
     "text": [
      "[3, 6, 13, 12, 14, 9, 11, 15, 5]\n",
      "[8, 4, 7]\n",
      "[2, 10]\n"
     ]
    },
    {
     "data": {
      "text/plain": [
       "[79, 31, 23]"
      ]
     },
     "execution_count": 47,
     "metadata": {},
     "output_type": "execute_result"
    }
   ],
   "source": [
    "solutions = [[3, 6, 13, 12, 14, 9, 11, 15, 5],\n",
    "[8, 4, 7],\n",
    "[2, 10]]\n",
    "print_routes(solutions)\n",
    "obj_function = objective_function_vector_bf(solutions,cities_distances)\n",
    "obj_function"
   ]
  },
  {
   "cell_type": "code",
   "execution_count": 48,
   "metadata": {},
   "outputs": [
    {
     "data": {
      "text/plain": [
       "('0xadbc088', '0xab1a788', '0xadbc4c8', '0xadbc368')"
      ]
     },
     "execution_count": 48,
     "metadata": {},
     "output_type": "execute_result"
    }
   ],
   "source": [
    "solutions_test, obj_function_test = solutions.copy(), obj_function.copy()\n",
    "hex(id(solutions)), hex(id(solutions_test)), hex(id(obj_function_test)), hex(id(obj_function))"
   ]
  },
  {
   "cell_type": "markdown",
   "metadata": {},
   "source": [
    "## Implementação do Shift intrarrotas"
   ]
  },
  {
   "cell_type": "code",
   "execution_count": 49,
   "metadata": {},
   "outputs": [
    {
     "name": "stdout",
     "output_type": "stream",
     "text": [
      "[3, 14, 6, 13, 12, 9, 11, 15, 5]\n",
      "[8, 4, 7]\n",
      "[2, 10]\n"
     ]
    },
    {
     "data": {
      "text/plain": [
       "[75, 31, 23]"
      ]
     },
     "execution_count": 49,
     "metadata": {},
     "output_type": "execute_result"
    }
   ],
   "source": [
    "solutions_test[0], obj_function_test[0] = shift_intraroute(solutions_test[0],4,1,obj_function_test[0],cities_distances)\n",
    "print_routes(solutions_test)\n",
    "obj_function_test"
   ]
  },
  {
   "cell_type": "markdown",
   "metadata": {},
   "source": [
    "Antes: [3, 6, 13, 12, **14**, 9, 11, 15, 5]\n",
    "\n",
    "Depois: [3, **14**, 6, 13, 12, 9, 11, 15, 5]"
   ]
  },
  {
   "cell_type": "markdown",
   "metadata": {},
   "source": [
    "## Implementação do Swap intrarrotas"
   ]
  },
  {
   "cell_type": "code",
   "execution_count": 50,
   "metadata": {},
   "outputs": [
    {
     "name": "stdout",
     "output_type": "stream",
     "text": [
      "[3, 14, 13, 12, 6, 9, 11, 15, 5]\n",
      "[8, 4, 7]\n",
      "[2, 10]\n"
     ]
    }
   ],
   "source": [
    "solutions_test, obj_function_test = solutions.copy(), obj_function.copy()\n",
    "solutions_test[0], obj_function[0] = swap_intraroute(solutions_test[0],4,1,obj_function_test[0],cities_distances)\n",
    "print_routes(solutions_test)"
   ]
  },
  {
   "cell_type": "markdown",
   "metadata": {},
   "source": [
    "Antes: [3, **6**, 13, 12, **14**, 9, 11, 15, 5]\n",
    "\n",
    "Depois: [3, **14**, 13, 12, **6**, 9, 11, 15, 5]"
   ]
  },
  {
   "cell_type": "markdown",
   "metadata": {},
   "source": [
    "## Implementação do Swap interrotas"
   ]
  },
  {
   "cell_type": "code",
   "execution_count": 51,
   "metadata": {},
   "outputs": [
    {
     "name": "stdout",
     "output_type": "stream",
     "text": [
      "[3, 6, 13, 12, 14, 4, 11, 15, 5]\n",
      "[8, 9, 7]\n",
      "[2, 10]\n"
     ]
    }
   ],
   "source": [
    "solutions_test, obj_function_test = solutions.copy(), obj_function.copy()\n",
    "solutions_test, obj_function_test = swap_interroute(solutions_test,0,1,5,1,obj_function_test,cities_distances)\n",
    "print_routes(solutions_test)"
   ]
  },
  {
   "cell_type": "markdown",
   "metadata": {},
   "source": [
    "Antes: [3, 6, 13, 12, 14, **9**, 11, 15, 5]\n",
    "        [8, **4**, 7]\n",
    "        [2, 10]\n",
    "\n",
    "\n",
    "Depois: [3, 6, 13, 12, 14, **4**, 11, 15, 5]\n",
    "        [8, **9**, 7]\n",
    "        [2, 10]"
   ]
  },
  {
   "cell_type": "markdown",
   "metadata": {},
   "source": [
    "## Implementação do Shift interrotas"
   ]
  },
  {
   "cell_type": "code",
   "execution_count": 52,
   "metadata": {},
   "outputs": [
    {
     "name": "stdout",
     "output_type": "stream",
     "text": [
      "[3, 13, 12, 14, 9, 11, 15, 5]\n",
      "[8, 6, 4, 7]\n",
      "[2, 10]\n"
     ]
    }
   ],
   "source": [
    "solutions_test, obj_function_test = solutions.copy(), obj_function.copy()\n",
    "solutions_test, obj_function_test = shift_interroute(solutions_test,0,1,1,1,obj_function_test,cities_distances)\n",
    "print_routes(solutions_test)"
   ]
  },
  {
   "cell_type": "markdown",
   "metadata": {},
   "source": [
    "Antes: [3, **6**, 13, 12, 14, 9, 11, 15, 5]\n",
    "        [8, **__** 4, 7]\n",
    "        [2, 10]\n",
    "\n",
    "\n",
    "Depois: [3, **__**  13, 12, 14, 9, 11, 15, 5]\n",
    "        [8, **6**, 4, 7]\n",
    "        [2, 10]"
   ]
  },
  {
   "cell_type": "markdown",
   "metadata": {},
   "source": [
    "## Implementação da operação 2-opt"
   ]
  },
  {
   "cell_type": "code",
   "execution_count": 53,
   "metadata": {},
   "outputs": [
    {
     "name": "stdout",
     "output_type": "stream",
     "text": [
      "[3, 14, 12, 13, 6, 9, 11, 15, 5]\n",
      "[8, 4, 7]\n",
      "[2, 10]\n"
     ]
    }
   ],
   "source": [
    "solutions_test, obj_function_test = solutions.copy(), obj_function.copy()\n",
    "solutions_test[0], obj_function[0] = two_opt_intraroute(solutions_test[0],1,5, obj_function_test[0],cities_distances)\n",
    "print_routes(solutions_test)"
   ]
  },
  {
   "cell_type": "markdown",
   "metadata": {},
   "source": [
    "Antes: [3, **6**, 13, 12, **14**, 9, 11, 15, 5]\n",
    "\n",
    "Depois: [3, **14**, _12, 13,_ **6**, 9, 11, 15, 5]"
   ]
  }
 ],
 "metadata": {
  "interpreter": {
   "hash": "8c77a13587ffc0b91470270c369249efa7c2ba70ba7726b1ad5fc01fa30e2cc8"
  },
  "kernelspec": {
   "display_name": "Python 3.8.3 32-bit",
   "language": "python",
   "name": "python3"
  },
  "language_info": {
   "codemirror_mode": {
    "name": "ipython",
    "version": 3
   },
   "file_extension": ".py",
   "mimetype": "text/x-python",
   "name": "python",
   "nbconvert_exporter": "python",
   "pygments_lexer": "ipython3",
   "version": "3.8.3"
  },
  "orig_nbformat": 4
 },
 "nbformat": 4,
 "nbformat_minor": 2
}
