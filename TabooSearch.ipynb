{
 "cells": [
  {
   "cell_type": "code",
   "execution_count": 37,
   "metadata": {},
   "outputs": [],
   "source": [
    "from mtspHeuristic import *\n",
    "from mtspConstruction import *\n",
    "import random"
   ]
  },
  {
   "cell_type": "code",
   "execution_count": 38,
   "metadata": {},
   "outputs": [],
   "source": [
    "tabooList = []"
   ]
  },
  {
   "cell_type": "code",
   "execution_count": 39,
   "metadata": {},
   "outputs": [],
   "source": [
    "def local_search_two_opt_BI(solution,obj_function,distance_matrix):\n",
    "    got_better_solution = False\n",
    "    sum_OF = sum(obj_function)\n",
    "    sol_copy = solution.copy()\n",
    "    obj_function_copy = obj_function.copy()\n",
    "    best_obj_function = obj_function.copy()\n",
    "    amount_of_salesmen = len(solution)\n",
    "    for route_index in range(amount_of_salesmen):\n",
    "        route = sol_copy[route_index]\n",
    "        obj_function_route = obj_function[route_index] \n",
    "        size_of_route = len(route)\n",
    "        if size_of_route > 2:\n",
    "            for point_a in range(size_of_route - 2):\n",
    "                for point_b in range(point_a+2,size_of_route):\n",
    "                    new_sol, new_obj_function = two_opt_intraroute(route,point_a,point_b,obj_function_route,distance_matrix)\n",
    "                    obj_function_copy[route_index] = new_obj_function \n",
    "                    sum_OF_after = sum(obj_function_copy)\n",
    "                    if sum_OF_after < sum_OF:\n",
    "                        print(\"Current FO:\", sum_OF_after)\n",
    "                        print(new_sol)\n",
    "                        sum_OF = sum_OF_after\n",
    "                        sol_copy[route_index] = new_sol\n",
    "                        got_better_solution = True\n",
    "                        best_obj_function = obj_function_copy.copy()\n",
    "                        print(sol_copy)\n",
    "                        print(\"____________________________________\")\n",
    "\n",
    "    return sol_copy, best_obj_function, got_better_solution\n",
    "\n",
    "\n",
    "def local_search_swap_intraroute_BI(solution,obj_function,distance_matrix):\n",
    "    got_better_solution = False\n",
    "    best_obj_function = obj_function.copy()\n",
    "\n",
    "    sum_OF = sum(obj_function)\n",
    "    sol_copy = solution.copy()\n",
    "    obj_function_copy = obj_function.copy() \n",
    "    amount_of_salesmen = len(solution)\n",
    "    for route_index in range(amount_of_salesmen):\n",
    "        route = sol_copy[route_index]\n",
    "        obj_function_route = obj_function[route_index] \n",
    "        size_of_route = len(route)\n",
    "        if size_of_route > 1:\n",
    "            for point_a in range(size_of_route - 1):\n",
    "                for point_b in range(point_a+1,size_of_route):\n",
    "                    new_sol, new_obj_function = swap_intraroute(route,point_a,point_b,obj_function_route,distance_matrix)\n",
    "                    obj_function_copy[route_index] = new_obj_function \n",
    "                    sum_OF_after = sum(obj_function_copy)\n",
    "                    if sum_OF_after < sum_OF:\n",
    "                        print(\"Current FO:\", sum_OF_after)\n",
    "                        print(new_sol)\n",
    "                        sum_OF = sum_OF_after\n",
    "                        sol_copy[route_index] = new_sol\n",
    "                        got_better_solution = True\n",
    "                        best_obj_function = obj_function_copy.copy()\n",
    "                        print(sol_copy)\n",
    "                        print(\"____________________________________\")\n",
    "\n",
    "    return sol_copy, best_obj_function, got_better_solution\n",
    "\n",
    "def local_search_shift_intraroute_BI(solution,obj_function,distance_matrix):\n",
    "    got_better_solution = False\n",
    "    best_obj_function = obj_function.copy()\n",
    "\n",
    "    sum_OF = sum(obj_function)\n",
    "    sol_copy = solution.copy()\n",
    "    obj_function_copy = obj_function.copy() \n",
    "    amount_of_salesmen = len(solution)\n",
    "    for route_index in range(amount_of_salesmen):\n",
    "        route = sol_copy[route_index]\n",
    "        obj_function_route = obj_function[route_index] \n",
    "        size_of_route = len(route)\n",
    "        if size_of_route > 1:\n",
    "            for point_a in range(size_of_route):\n",
    "                for point_b in range(size_of_route):\n",
    "                        # Element > Target obrigatoriamente\n",
    "                        # Move o elemento element para logo antes de target\n",
    "                    new_sol, new_obj_function = shift_intraroute(route,point_b,point_a,obj_function_route,distance_matrix)\n",
    "                    obj_function_copy[route_index] = new_obj_function \n",
    "                    sum_OF_after = sum(obj_function_copy)\n",
    "                    if sum_OF_after < sum_OF:\n",
    "                        print(new_sol)\n",
    "                        print(\"Current FO:\", sum_OF_after)\n",
    "                        sol_copy[route_index] = new_sol\n",
    "                        got_better_solution = True\n",
    "                        best_obj_function = obj_function_copy.copy()\n",
    "                        sum_OF = sum_OF_after\n",
    "\n",
    "\n",
    "    return sol_copy, best_obj_function, got_better_solution"
   ]
  },
  {
   "cell_type": "code",
   "execution_count": 40,
   "metadata": {},
   "outputs": [
    {
     "name": "stdout",
     "output_type": "stream",
     "text": [
      "[12]\n",
      "[3, 14, 15, 9, 8, 10, 4, 13, 2, 7, 6]\n",
      "[11, 5]\n",
      "Initial value of FO:  77\n"
     ]
    }
   ],
   "source": [
    "cities_distances = [[0,8,5,10,6,3,13,2,10,6,3,4,9,6,17],\n",
    "         [8,0,9,6,12,7,4,9,15,9,10,6,5,9,11],\n",
    "         [5,9,0,10,9,9,7,18,7,4,7,3,11,4,10],\n",
    "         [10,6,10,0,18,2,10,6,5,4,9,12,8,8,10],\n",
    "         [6,12,9,18,0,9,10,11,11,12,6,5,6,8,9],\n",
    "         [3,7,9,2,9,0,6,8,9,10,5,2,7,10,6],\n",
    "         [13,4,7,10,10,6,0,12,8,3,7,4,10,6,9],\n",
    "         [2,9,18,6,11,8,12,0,7,3,6,18,17,9,2],\n",
    "         [10,15,7,5,11,9,8,7,0,10,8,3,14,10,3],\n",
    "         [6,9,4,4,12,10,3,3,10,0,12,5,9,6,3],\n",
    "         [3,10,7,9,6,5,7,6,8,12,0,19,8,8,11],\n",
    "         [4,6,3,12,5,2,4,18,3,5,19,0,12,2,9],\n",
    "         [9,5,11,8,6,7,10,17,14,9,8,12,0,5,6],\n",
    "         [6,9,4,8,8,10,6,9,10,6,8,2,5,0,2],\n",
    "         [17,11,10,10,9,6,9,2,3,3,11,9,6,2,0]]\n",
    "\n",
    "number_of_salesmen = 3\n",
    "\n",
    "solution, obj_function = greedy_insertion_construction(cities_distances, number_of_salesmen)\n",
    "print_routes(solution)\n",
    "initial_OF = objective_function_minsum(obj_function)\n",
    "print(\"Initial value of FO: \", initial_OF)"
   ]
  },
  {
   "cell_type": "code",
   "execution_count": 41,
   "metadata": {},
   "outputs": [
    {
     "name": "stdout",
     "output_type": "stream",
     "text": [
      "Current FO: 75\n",
      "[8, 9, 15, 14, 3, 10, 4, 13, 2, 7, 6]\n",
      "[[12], [8, 9, 15, 14, 3, 10, 4, 13, 2, 7, 6], [11, 5]]\n",
      "____________________________________\n",
      "Current FO: 72\n",
      "[3, 14, 15, 9, 8, 10, 7, 2, 13, 4, 6]\n",
      "[[12], [3, 14, 15, 9, 8, 10, 7, 2, 13, 4, 6], [11, 5]]\n",
      "____________________________________\n"
     ]
    },
    {
     "data": {
      "text/plain": [
       "([[12], [3, 14, 15, 9, 8, 10, 7, 2, 13, 4, 6], [11, 5]],\n",
       " [8, 49, 15],\n",
       " True,\n",
       " [8, 49, 15])"
      ]
     },
     "execution_count": 41,
     "metadata": {},
     "output_type": "execute_result"
    }
   ],
   "source": [
    "distance_matrix = cities_distances\n",
    "a, b, c = local_search_two_opt_BI(solution,obj_function,distance_matrix)\n",
    "a, b, c, objective_function_vector_bf(a,distance_matrix)"
   ]
  },
  {
   "cell_type": "code",
   "execution_count": 42,
   "metadata": {},
   "outputs": [
    {
     "name": "stdout",
     "output_type": "stream",
     "text": [
      "Current FO: 76\n",
      "[3, 14, 15, 9, 8, 10, 7, 13, 2, 4, 6]\n",
      "[[12], [3, 14, 15, 9, 8, 10, 7, 13, 2, 4, 6], [11, 5]]\n",
      "____________________________________\n"
     ]
    },
    {
     "data": {
      "text/plain": [
       "([[12], [3, 14, 15, 9, 8, 10, 7, 13, 2, 4, 6], [11, 5]],\n",
       " [8, 53, 15],\n",
       " True,\n",
       " [8, 53, 15])"
      ]
     },
     "execution_count": 42,
     "metadata": {},
     "output_type": "execute_result"
    }
   ],
   "source": [
    "distance_matrix = cities_distances\n",
    "a, b, c = local_search_swap_intraroute_BI(solution,obj_function,distance_matrix)\n",
    "a, b, c, objective_function_vector_bf(a,distance_matrix)"
   ]
  },
  {
   "cell_type": "code",
   "execution_count": 43,
   "metadata": {},
   "outputs": [
    {
     "data": {
      "text/plain": [
       "([[12], [3, 14, 15, 9, 8, 10, 4, 13, 2, 7, 6], [11, 5]],\n",
       " [8, 54, 15],\n",
       " False,\n",
       " [8, 54, 15])"
      ]
     },
     "execution_count": 43,
     "metadata": {},
     "output_type": "execute_result"
    }
   ],
   "source": [
    "distance_matrix = cities_distances\n",
    "a, b, c = local_search_shift_intraroute_BI(solution,obj_function,distance_matrix)\n",
    "a, b, c, objective_function_vector_bf(a,distance_matrix)"
   ]
  },
  {
   "cell_type": "code",
   "execution_count": 44,
   "metadata": {},
   "outputs": [],
   "source": [
    "def local_search_shift_interroute_BI(solution,obj_function,distance_matrix):\n",
    "    got_better_solution = False\n",
    "    best_obj_function = obj_function.copy()\n",
    "    best_solution = solution.copy()\n",
    "    sum_OF = sum(obj_function)\n",
    "    sol_copy = solution.copy()\n",
    "    obj_function_copy = obj_function.copy()\n",
    "\n",
    "    amount_of_salesmen = len(solution)\n",
    "    \n",
    "    # Ordem direta de pesquisa (do menor para o maior índice)\n",
    "    for route_index_a in range(amount_of_salesmen):\n",
    "        for route_index_b in range(route_index_a+1, amount_of_salesmen):\n",
    "            size_of_route_a = len(solution[route_index_a])\n",
    "            size_of_route_b = len(solution[route_index_b])\n",
    "            if size_of_route_a > 2:\n",
    "                for point_a in range(size_of_route_a):\n",
    "                    for point_b in range(size_of_route_b):\n",
    "                        sol_copy, obj_function_copy = shift_interroute(sol_copy,route_index_a,route_index_b,point_a,point_b,obj_function_copy,distance_matrix)\n",
    "    # Na função, o shift realoca o elemento da primeira solução (first_sol) à segunda (second_sol) na posição second_element_index\n",
    "                        sum_OF_after = sum(obj_function_copy)\n",
    "            \n",
    "                        if sum_OF_after < sum_OF:\n",
    "                            print(\"Current FO:\", sum_OF_after)\n",
    "                            best_solution = sol_copy.copy()\n",
    "                            best_obj_function = obj_function_copy.copy()\n",
    "                            got_better_solution = True\n",
    "                            sum_OF = sum_OF_after\n",
    "                            print(best_solution)\n",
    "                            print(best_obj_function)\n",
    "                            print(\"_________________\")\n",
    "                        sol_copy = solution.copy()\n",
    "                        obj_function_copy = obj_function.copy()\n",
    "\n",
    "    # Ordem inversa de pesquisa (do maior para o menor índice)\n",
    "    for route_index_a in reversed(range(amount_of_salesmen)):\n",
    "        for route_index_b in reversed(range(route_index_a)):\n",
    "            size_of_route_a = len(solution[route_index_a])\n",
    "            size_of_route_b = len(solution[route_index_b])\n",
    "            if size_of_route_a > 1:\n",
    "                for point_a in range(size_of_route_a):\n",
    "                    for point_b in range(size_of_route_b):\n",
    "                        sol_copy, obj_function_copy = shift_interroute(sol_copy,route_index_a,route_index_b,point_a,point_b,obj_function_copy,distance_matrix)\n",
    "                        sum_OF_after = sum(obj_function_copy)\n",
    "            \n",
    "                        if sum_OF_after < sum_OF:\n",
    "                            print(\"Current FO:\", sum_OF_after)\n",
    "                            best_solution = sol_copy.copy()\n",
    "                            best_obj_function = obj_function_copy.copy()\n",
    "                            got_better_solution = True\n",
    "                            sum_OF = sum_OF_after\n",
    "                            print(best_solution)\n",
    "                            print(best_obj_function)\n",
    "                            print(\"_________________\")\n",
    "                        sol_copy = solution.copy()\n",
    "                        obj_function_copy = obj_function.copy()\n",
    "    return best_solution, best_obj_function, got_better_solution\n"
   ]
  },
  {
   "cell_type": "code",
   "execution_count": 45,
   "metadata": {},
   "outputs": [
    {
     "name": "stdout",
     "output_type": "stream",
     "text": [
      "Current FO: 75\n",
      "[[5, 12], [3, 14, 15, 9, 8, 10, 4, 13, 2, 7, 6], [11]]\n",
      "[15, 54, 6]\n",
      "_________________\n"
     ]
    },
    {
     "data": {
      "text/plain": [
       "([[5, 12], [3, 14, 15, 9, 8, 10, 4, 13, 2, 7, 6], [11]],\n",
       " [15, 54, 6],\n",
       " True,\n",
       " [15, 54, 6])"
      ]
     },
     "execution_count": 45,
     "metadata": {},
     "output_type": "execute_result"
    }
   ],
   "source": [
    "distance_matrix = cities_distances\n",
    "a, b, c = local_search_shift_interroute_BI(solution,obj_function,distance_matrix)\n",
    "a, b, c, objective_function_vector_bf(a,distance_matrix)"
   ]
  },
  {
   "cell_type": "code",
   "execution_count": 46,
   "metadata": {},
   "outputs": [],
   "source": [
    "def local_search_swap_interroute_BI(solution,obj_function,distance_matrix):\n",
    "    got_better_solution = False\n",
    "    best_obj_function = obj_function.copy()\n",
    "    best_solution = solution.copy()\n",
    "    \n",
    "    sum_OF = sum(obj_function)\n",
    "    sol_copy = solution.copy()\n",
    "    obj_function_copy = obj_function.copy() \n",
    "    amount_of_salesmen = len(solution)\n",
    "    for route_index_a in range(amount_of_salesmen):\n",
    "        for route_index_b in range(route_index_a+1, amount_of_salesmen):\n",
    "            size_of_route_a = len(solution[route_index_a])\n",
    "            size_of_route_b = len(solution[route_index_b])\n",
    "            for point_a in range(size_of_route_a):\n",
    "                for point_b in range(size_of_route_b):\n",
    "                    sol_copy, obj_function_copy = swap_interroute(sol_copy,route_index_a,route_index_b,point_a,point_b,obj_function_copy,distance_matrix)\n",
    "                    sum_OF_after = sum(obj_function_copy)\n",
    "                    if sum_OF_after < sum_OF:\n",
    "                        print(\"Current FO:\", sum_OF_after)\n",
    "                        best_solution = sol_copy.copy()\n",
    "                        best_obj_function = obj_function_copy.copy()\n",
    "                        got_better_solution = True\n",
    "                        sum_OF = sum_OF_after\n",
    "                        print(best_solution)\n",
    "                        print(best_obj_function)\n",
    "                        print(\"_________________\")\n",
    "                    sol_copy = solution.copy()\n",
    "                    obj_function_copy = obj_function.copy()\n",
    "    return best_solution, best_obj_function, got_better_solution"
   ]
  },
  {
   "cell_type": "code",
   "execution_count": 47,
   "metadata": {},
   "outputs": [
    {
     "name": "stdout",
     "output_type": "stream",
     "text": [
      "Current FO: 76\n",
      "[[3], [12, 14, 15, 9, 8, 10, 4, 13, 2, 7, 6], [11, 5]]\n",
      "[10, 51, 15]\n",
      "_________________\n",
      "Current FO: 71\n",
      "[[8], [3, 14, 15, 9, 12, 10, 4, 13, 2, 7, 6], [11, 5]]\n",
      "[4, 52, 15]\n",
      "_________________\n"
     ]
    },
    {
     "data": {
      "text/plain": [
       "([[8], [3, 14, 15, 9, 12, 10, 4, 13, 2, 7, 6], [11, 5]],\n",
       " [4, 52, 15],\n",
       " True,\n",
       " [4, 52, 15])"
      ]
     },
     "execution_count": 47,
     "metadata": {},
     "output_type": "execute_result"
    }
   ],
   "source": [
    "distance_matrix = cities_distances\n",
    "a, b, c = local_search_swap_interroute_BI(solution,obj_function,distance_matrix)\n",
    "a, b, c, objective_function_vector_bf(a,distance_matrix)"
   ]
  }
 ],
 "metadata": {
  "interpreter": {
   "hash": "f9bc4b652b848242f69209cd0080417b2688107fd8dbea54d7ab4af63d585dd8"
  },
  "kernelspec": {
   "display_name": "Python 3.8.3 32-bit",
   "language": "python",
   "name": "python3"
  },
  "language_info": {
   "codemirror_mode": {
    "name": "ipython",
    "version": 3
   },
   "file_extension": ".py",
   "mimetype": "text/x-python",
   "name": "python",
   "nbconvert_exporter": "python",
   "pygments_lexer": "ipython3",
   "version": "3.8.3"
  },
  "orig_nbformat": 4
 },
 "nbformat": 4,
 "nbformat_minor": 2
}
