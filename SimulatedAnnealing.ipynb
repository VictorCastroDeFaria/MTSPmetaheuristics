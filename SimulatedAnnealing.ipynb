{
 "cells": [
  {
   "cell_type": "code",
   "execution_count": 31,
   "metadata": {},
   "outputs": [],
   "source": [
    "from mtspHeuristic import *\n",
    "from mtspConstruction import *\n",
    "import random\n",
    "import numpy as np"
   ]
  },
  {
   "cell_type": "code",
   "execution_count": 32,
   "metadata": {},
   "outputs": [
    {
     "name": "stdout",
     "output_type": "stream",
     "text": [
      "[3]\n",
      "[8, 10, 7, 2, 13, 14, 12]\n",
      "[5, 15, 9, 4, 6, 11]\n",
      "Initial value of FO:  71\n"
     ]
    }
   ],
   "source": [
    "cities_distances = [[0,8,5,10,6,3,13,2,10,6,3,4,9,6,17],\n",
    "         [8,0,9,6,12,7,4,9,15,9,10,6,5,9,11],\n",
    "         [5,9,0,10,9,9,7,18,7,4,7,3,11,4,10],\n",
    "         [10,6,10,0,18,2,10,6,5,4,9,12,8,8,10],\n",
    "         [6,12,9,18,0,9,10,11,11,12,6,5,6,8,9],\n",
    "         [3,7,9,2,9,0,6,8,9,10,5,2,7,10,6],\n",
    "         [13,4,7,10,10,6,0,12,8,3,7,4,10,6,9],\n",
    "         [2,9,18,6,11,8,12,0,7,3,6,18,17,9,2],\n",
    "         [10,15,7,5,11,9,8,7,0,10,8,3,14,10,3],\n",
    "         [6,9,4,4,12,10,3,3,10,0,12,5,9,6,3],\n",
    "         [3,10,7,9,6,5,7,6,8,12,0,19,8,8,11],\n",
    "         [4,6,3,12,5,2,4,18,3,5,19,0,12,2,9],\n",
    "         [9,5,11,8,6,7,10,17,14,9,8,12,0,5,6],\n",
    "         [6,9,4,8,8,10,6,9,10,6,8,2,5,0,2],\n",
    "         [17,11,10,10,9,6,9,2,3,3,11,9,6,2,0]]\n",
    "\n",
    "distance_matrix = cities_distances\n",
    "\n",
    "number_of_salesmen = 3\n",
    "\n",
    "solution, obj_function_vector = greedy_insertion_construction(cities_distances, number_of_salesmen)\n",
    "print_routes(solution)\n",
    "initial_OF = objective_function_minsum(obj_function_vector)\n",
    "print(\"Initial value of FO: \", initial_OF)\n"
   ]
  },
  {
   "cell_type": "code",
   "execution_count": 33,
   "metadata": {},
   "outputs": [],
   "source": [
    "def random_movement(solutions,objective_function_vector,distance_matrix):\n",
    "    movement_mode = randint(0,4)\n",
    "    # Se o modo principal for 0, o movimento será somente intrarrota\n",
    "    if movement_mode == 0: # 2-opt\n",
    "\n",
    "        solution_index = randint(0,len(solutions)-1)\n",
    "        # Bloco para evitar seleção de rotas curtas \n",
    "        while len(solutions[solution_index]) <= 2:\n",
    "            solution_index = randint(0,len(solutions)-1)\n",
    "        pointA, pointB = 0, 0\n",
    "        while pointB - pointA < 2:\n",
    "            pointA = randint(0,len(solutions[solution_index])-1)\n",
    "            pointB = randint(0,len(solutions[solution_index])-1)\n",
    "        # def two_opt_intraroute(route_vector,point_a,point_b,obj_function, distance_matrix):\n",
    "        solutions[solution_index], objective_function_vector[solution_index] = two_opt_intraroute(solutions[solution_index],pointA,pointB,objective_function_vector[solution_index],distance_matrix)\n",
    "        #print(\"2-opt INTRAroute\")\n",
    "        return solutions, objective_function_vector\n",
    "\n",
    "    elif movement_mode == 1: # Swap intraroute\n",
    "\n",
    "        solution_index = randint(0,len(solutions)-1)\n",
    "        # Bloco para evitar seleção de rotas curtas \n",
    "        while len(solutions[solution_index]) <= 2:\n",
    "            solution_index = randint(0,len(solutions)-1)\n",
    "        pointA, pointB = 0, 0\n",
    "        while pointB == pointA:\n",
    "            pointA = randint(0,len(solutions[solution_index])-1)\n",
    "            pointB = randint(0,len(solutions[solution_index])-1)\n",
    "        # def swap_intraroute(route_vector,point_a,point_b,obj_function,distance_matrix):\n",
    "        solutions[solution_index], objective_function_vector[solution_index] = swap_intraroute(solutions[solution_index],pointA,pointB,objective_function_vector[solution_index],distance_matrix)\n",
    "        #print(\"Swap INTRAroute\")\n",
    "        return solutions, objective_function_vector\n",
    "\n",
    "    elif movement_mode == 2: #Shift intraroute\n",
    "        solution_index = randint(0,len(solutions)-1)\n",
    "        # Bloco para evitar seleção de rotas curtas \n",
    "        while len(solutions[solution_index]) <= 2:\n",
    "            solution_index = randint(0,len(solutions)-1)\n",
    "\n",
    "        point_target = randint(0,len(solutions[solution_index])-1)\n",
    "        point_element = randint(0,len(solutions[solution_index])-1)\n",
    "        # def shift_intraroute(route_vector,point_element,point_target,obj_function,distance_matrix):\n",
    "        solutions[solution_index], objective_function_vector[solution_index] = shift_intraroute(solutions[solution_index],point_element,point_target,objective_function_vector[solution_index],distance_matrix)\n",
    "        #print(\"Shift INTRAroute\")\n",
    "        return solutions, objective_function_vector\n",
    "\n",
    "    elif movement_mode == 3: # Swap interroute\n",
    "        first_solution_index, second_solution_index = 0, 0\n",
    "        # Condições para selecionar índices: índices diferentes e a primeira solução ter tamanho maior que 1\n",
    " \n",
    "        while first_solution_index == second_solution_index or len(solutions[first_solution_index]) < 1:\n",
    "            first_solution_index = randint(0,len(solutions)-1)\n",
    "            second_solution_index = randint(0,len(solutions)-1)\n",
    "        first_element_index = randint(0, len(solutions[first_solution_index])-1)\n",
    "        second_element_index = randint(0, len(solutions[second_solution_index])-1) \n",
    "        # def swap_interroute(solutions,first_sol_index,second_sol_index,first_element_index,second_element_index,obj_function_vector,distance_matrix):\n",
    "        solutions, objective_function_vector = swap_interroute(solutions,first_solution_index,second_solution_index,first_element_index,second_element_index,objective_function_vector,distance_matrix)\n",
    "        #print(\"Swap INTERroute with solutions %d and %d and points %d and %d\" % (first_solution_index, second_solution_index, first_element_index, second_element_index))\n",
    "        return solutions, objective_function_vector\n",
    "    \n",
    "    else: # Shift\n",
    "        first_solution_index, second_solution_index = 0, 0\n",
    "        # Condições para selecionar índices: índices diferentes, a primeira solução ter tamanho maior que 2 e a segunda solução não ser vazia\n",
    "        while first_solution_index == second_solution_index or len(solutions[first_solution_index]) < 2 or len(solutions[second_solution_index]) < 1:\n",
    "            first_solution_index = randint(0,len(solutions)-1)\n",
    "            second_solution_index = randint(0,len(solutions)-1)\n",
    "        first_element_index = randint(0, len(solutions[first_solution_index])-1)\n",
    "        second_element_index = randint(0, len(solutions[second_solution_index])-1) \n",
    "        #                                   shift_interroute(solutions,first_sol_index,second_sol_index,first_element_index,second_element_index,obj_function_vector,distance_matrix)\n",
    "        solutions, objective_function_vector = shift_interroute(solutions,first_solution_index,second_solution_index,first_element_index,second_element_index,objective_function_vector,distance_matrix)\n",
    "        #print(\"Shift INTERroute with solutions %d and %d and points %d and %d\" % (first_solution_index, second_solution_index, first_element_index, second_element_index))\n",
    "        return solutions, objective_function_vector"
   ]
  },
  {
   "cell_type": "code",
   "execution_count": 34,
   "metadata": {},
   "outputs": [
    {
     "data": {
      "text/plain": [
       "3"
      ]
     },
     "execution_count": 34,
     "metadata": {},
     "output_type": "execute_result"
    }
   ],
   "source": [
    "filename = 'set I_MATRIX/mtsp51_3.txt'\n",
    "\n",
    "with open(filename) as f:\n",
    "    lines = f.readlines()\n",
    "    number_of_salesmen = int(filename.split('.')[0].split('_')[2])\n",
    "number_of_salesmen"
   ]
  },
  {
   "cell_type": "code",
   "execution_count": 35,
   "metadata": {},
   "outputs": [
    {
     "name": "stdout",
     "output_type": "stream",
     "text": [
      "[28, 31, 26, 8]\n",
      "[2, 16, 50, 30, 34, 21, 29, 20, 35, 36, 3, 22]\n",
      "[32, 11, 5, 38, 9, 49, 10, 39, 33, 45, 15, 44, 42, 19, 40, 41, 13, 4, 17, 37, 12, 46, 51, 47, 18, 25, 14, 24, 23, 43, 7, 48, 6, 27]\n",
      "Initial value of FO:  477.2700000000001\n"
     ]
    }
   ],
   "source": [
    "distance_matrix = []\n",
    "\n",
    "for line in lines:\n",
    "    distance_matrix.append([float(item) for item in line.split(\" \")])\n",
    "\n",
    "solution, obj_function_vector = greedy_insertion_construction(distance_matrix, number_of_salesmen)\n",
    "print_routes(solution)\n",
    "initial_OF = objective_function_minsum(obj_function_vector)\n",
    "print(\"Initial value of FO: \", initial_OF)"
   ]
  },
  {
   "cell_type": "code",
   "execution_count": 36,
   "metadata": {},
   "outputs": [],
   "source": [
    "T_initial = 50000000\n",
    "cooling_rate = 0.999\n",
    "max_iter = 1500\n",
    "T_minimum = 0.001"
   ]
  },
  {
   "cell_type": "code",
   "execution_count": 37,
   "metadata": {},
   "outputs": [
    {
     "name": "stdout",
     "output_type": "stream",
     "text": [
      "Best OF: 477 \n",
      "Current OF after halt: 1251\n",
      "Best Routes: \n",
      "[28, 31, 26, 8]\n",
      "[2, 16, 50, 30, 34, 21, 29, 20, 35, 36, 3, 22]\n",
      "[32, 11, 5, 38, 9, 49, 10, 39, 33, 45, 15, 44, 42, 19, 40, 41, 13, 4, 17, 37, 12, 46, 51, 47, 18, 25, 14, 24, 23, 43, 7, 48, 6, 27]\n",
      "Current Routes: \n",
      "[26, 20, 50, 48, 18, 3, 29, 27, 21, 37, 17, 5, 19, 33, 32, 16, 34, 38, 42]\n",
      "[28, 36, 51, 47, 4, 44, 45, 39, 41, 13, 40, 6, 23, 49, 9, 30, 2, 10, 15, 24, 12, 25, 14, 8, 31, 35, 22, 11, 7, 43]\n",
      "[46]\n"
     ]
    }
   ],
   "source": [
    "iter_number = 0\n",
    "Temperature = T_initial\n",
    "best_OF = initial_OF\n",
    "current_OF = initial_OF\n",
    "current_routes = solution.copy()\n",
    "best_routes = solution.copy()\n",
    "while(Temperature > T_minimum):\n",
    "    iter_number = 0\n",
    "    while(iter_number < max_iter):\n",
    "        # Parte específica\n",
    "        solution_neighbor, obj_function_vector = random_movement(solution, obj_function_vector, distance_matrix)\n",
    "        neighbor_OF = objective_function_minsum(obj_function_vector)\n",
    "        if neighbor_OF < current_OF:\n",
    "            current_OF = neighbor_OF\n",
    "            current_routes = solution_neighbor.copy()\n",
    "            if neighbor_OF < best_OF:\n",
    "                best_OF = neighbor_OF\n",
    "                best_routes = solution_neighbor.copy()\n",
    "                print(\"Found best solution at T = %.3f with value %.3f\" % (Temperature, best_OF) )\n",
    "        #FIM\n",
    "        else:\n",
    "            delta = neighbor_OF - current_OF\n",
    "            if random.random() < np.exp(-delta/Temperature):\n",
    "                # Parte específica\n",
    "                current_OF = neighbor_OF\n",
    "                current_routes = solution_neighbor.copy()\n",
    "                # FIM\n",
    "        iter_number += 1\n",
    "    #print(\"Iter done\")\n",
    "    Temperature *= cooling_rate\n",
    "                \n",
    "\n",
    "print(\"Best OF: %d \\nCurrent OF after halt: %d\" % (best_OF, current_OF))\n",
    "print(\"Best Routes: \")\n",
    "print_routes(best_routes)\n",
    "print(\"Current Routes: \")\n",
    "print_routes(current_routes)"
   ]
  },
  {
   "cell_type": "code",
   "execution_count": 38,
   "metadata": {},
   "outputs": [
    {
     "name": "stdout",
     "output_type": "stream",
     "text": [
      "Best OF: 477 \n",
      "Current OF after halt: 1251\n",
      "Best Routes: \n",
      "[28, 31, 26, 8]\n",
      "[2, 16, 50, 30, 34, 21, 29, 20, 35, 36, 3, 22]\n",
      "[32, 11, 5, 38, 9, 49, 10, 39, 33, 45, 15, 44, 42, 19, 40, 41, 13, 4, 17, 37, 12, 46, 51, 47, 18, 25, 14, 24, 23, 43, 7, 48, 6, 27]\n",
      "Current Routes: \n",
      "[26, 20, 50, 48, 18, 3, 29, 27, 21, 37, 17, 5, 19, 33, 32, 16, 34, 38, 42]\n",
      "[28, 36, 51, 47, 4, 44, 45, 39, 41, 13, 40, 6, 23, 49, 9, 30, 2, 10, 15, 24, 12, 25, 14, 8, 31, 35, 22, 11, 7, 43]\n",
      "[46]\n",
      "With objective function of 1251.270000010801\n"
     ]
    }
   ],
   "source": [
    "print(\"Best OF: %d \\nCurrent OF after halt: %d\" % (best_OF, current_OF))\n",
    "print(\"Best Routes: \")\n",
    "print_routes(best_routes)\n",
    "\n",
    "print(\"Current Routes: \")\n",
    "print_routes(current_routes)\n",
    "print(\"With objective function of\",current_OF)"
   ]
  },
  {
   "cell_type": "markdown",
   "metadata": {},
   "source": [
    "### All time best (3 salesmen):\n",
    "\n",
    "Metaheuristic: LNS (Large Neighborhood Search)<br>\n",
    "Best OF: 58 <br>\n",
    "Current OF after halt: 58 <br>\n",
    "Best Routes: <br>\n",
    "[8]<br>\n",
    "[11]<br>\n",
    "[6, 4, 9, 15, 14, 12, 3, 10, 7, 2, 13, 5]<br> <br>"
   ]
  }
 ],
 "metadata": {
  "interpreter": {
   "hash": "f9bc4b652b848242f69209cd0080417b2688107fd8dbea54d7ab4af63d585dd8"
  },
  "kernelspec": {
   "display_name": "Python 3.8.3 32-bit",
   "language": "python",
   "name": "python3"
  },
  "language_info": {
   "codemirror_mode": {
    "name": "ipython",
    "version": 3
   },
   "file_extension": ".py",
   "mimetype": "text/x-python",
   "name": "python",
   "nbconvert_exporter": "python",
   "pygments_lexer": "ipython3",
   "version": "3.8.3"
  },
  "orig_nbformat": 4
 },
 "nbformat": 4,
 "nbformat_minor": 2
}
