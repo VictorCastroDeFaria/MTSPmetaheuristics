{
 "cells": [
  {
   "cell_type": "markdown",
   "metadata": {},
   "source": [
    "# Library Imports"
   ]
  },
  {
   "cell_type": "code",
   "execution_count": 141,
   "metadata": {},
   "outputs": [],
   "source": [
    "from mtspHeuristic import *\n",
    "from mtspConstruction import *\n",
    "from mtspLocalSearch import *\n",
    "import random"
   ]
  },
  {
   "cell_type": "code",
   "execution_count": 142,
   "metadata": {},
   "outputs": [
    {
     "data": {
      "text/plain": [
       "([79, 34, 23], 136)"
      ]
     },
     "execution_count": 142,
     "metadata": {},
     "output_type": "execute_result"
    }
   ],
   "source": [
    "test_graph = [[0,8,5,10,6,3,13,2,10,6,3,4,9,6,17],\n",
    "         [8,0,9,6,12,7,4,9,15,9,10,6,5,9,11],\n",
    "         [5,9,0,10,9,9,7,18,7,4,7,3,11,4,10],\n",
    "         [10,6,10,0,18,2,10,6,5,4,9,12,8,8,10],\n",
    "         [6,12,9,18,0,9,10,11,11,12,6,5,6,8,9],\n",
    "         [3,7,9,2,9,0,6,8,9,10,5,2,7,10,6],\n",
    "         [13,4,7,10,10,6,0,12,8,3,7,4,10,6,9],\n",
    "         [2,9,18,6,11,8,12,0,7,3,6,18,17,9,2],\n",
    "         [10,15,7,5,11,9,8,7,0,10,8,3,14,10,3],\n",
    "         [6,9,4,4,12,10,3,3,10,0,12,5,9,6,3],\n",
    "         [3,10,7,9,6,5,7,6,8,12,0,19,8,8,11],\n",
    "         [4,6,3,12,5,2,4,18,3,5,19,0,12,2,9],\n",
    "         [9,5,11,8,6,7,10,17,14,9,8,12,0,5,6],\n",
    "         [6,9,4,8,8,10,6,9,10,6,8,2,5,0,2],\n",
    "         [17,11,10,10,9,6,9,2,3,3,11,9,6,2,0]]\n",
    "\n",
    "\n",
    "solutions = [[3, 6, 13, 12, 14, 9, 11, 15, 5],\n",
    "[8, 7, 4],\n",
    "[2, 10]]\n",
    "\n",
    "obj_function = [calc_tour_length(i,test_graph) for i in solutions] # 79, 31, 33\n",
    "obj_function, sum(obj_function)"
   ]
  },
  {
   "cell_type": "markdown",
   "metadata": {},
   "source": [
    "### Checking if memory addresses of solutions structures are different between each other"
   ]
  },
  {
   "cell_type": "code",
   "execution_count": 143,
   "metadata": {},
   "outputs": [],
   "source": [
    "sol_copy = solutions.copy()"
   ]
  },
  {
   "cell_type": "code",
   "execution_count": 144,
   "metadata": {},
   "outputs": [
    {
     "data": {
      "text/plain": [
       "'0x1332e08'"
      ]
     },
     "execution_count": 144,
     "metadata": {},
     "output_type": "execute_result"
    }
   ],
   "source": [
    "hex(id(solutions))"
   ]
  },
  {
   "cell_type": "code",
   "execution_count": 145,
   "metadata": {},
   "outputs": [
    {
     "data": {
      "text/plain": [
       "'0x132fe48'"
      ]
     },
     "execution_count": 145,
     "metadata": {},
     "output_type": "execute_result"
    }
   ],
   "source": [
    "hex(id(sol_copy))"
   ]
  },
  {
   "cell_type": "markdown",
   "metadata": {},
   "source": [
    "### Local Search Functions Testing (All of them first improvement-based)"
   ]
  },
  {
   "cell_type": "code",
   "execution_count": 146,
   "metadata": {},
   "outputs": [
    {
     "name": "stdout",
     "output_type": "stream",
     "text": [
      "[3, 6, 13, 12, 14, 9, 11, 15, 5]\n",
      "[8, 7, 4]\n",
      "[2, 10]\n"
     ]
    },
    {
     "data": {
      "text/plain": [
       "([79, 34, 23], [79, 34, 23])"
      ]
     },
     "execution_count": 146,
     "metadata": {},
     "output_type": "execute_result"
    }
   ],
   "source": [
    "print_routes(solutions)\n",
    "obj_function, objective_function_vector_bf(solutions, test_graph)"
   ]
  },
  {
   "cell_type": "code",
   "execution_count": 147,
   "metadata": {},
   "outputs": [
    {
     "name": "stdout",
     "output_type": "stream",
     "text": [
      "[13, 6, 3, 12, 14, 9, 11, 15, 5]\n",
      "[8, 7, 4]\n",
      "[2, 10]\n"
     ]
    },
    {
     "data": {
      "text/plain": [
       "([74, 34, 23], [74, 34, 23])"
      ]
     },
     "execution_count": 147,
     "metadata": {},
     "output_type": "execute_result"
    }
   ],
   "source": [
    "solutions, obj_function = local_search_two_opt(solutions,obj_function,test_graph)\n",
    "print_routes(solutions)\n",
    "obj_function, objective_function_vector_bf(solutions, test_graph)"
   ]
  },
  {
   "cell_type": "code",
   "execution_count": 148,
   "metadata": {},
   "outputs": [
    {
     "name": "stdout",
     "output_type": "stream",
     "text": [
      "[6, 13, 3, 12, 14, 9, 11, 15, 5]\n",
      "[8, 7, 4]\n",
      "[2, 10]\n"
     ]
    },
    {
     "data": {
      "text/plain": [
       "([70, 34, 23], [70, 34, 23])"
      ]
     },
     "execution_count": 148,
     "metadata": {},
     "output_type": "execute_result"
    }
   ],
   "source": [
    "solutions, obj_function = local_search_swap_intraroute(solutions,obj_function,test_graph)\n",
    "print_routes(solutions)\n",
    "obj_function, objective_function_vector_bf(solutions, test_graph)"
   ]
  },
  {
   "cell_type": "code",
   "execution_count": 149,
   "metadata": {},
   "outputs": [
    {
     "name": "stdout",
     "output_type": "stream",
     "text": [
      "[4, 13, 3, 12, 14, 9, 11, 15, 5]\n",
      "[8, 7, 6]\n",
      "[2, 10]\n"
     ]
    },
    {
     "data": {
      "text/plain": [
       "([78, 23, 23], [78, 23, 23])"
      ]
     },
     "execution_count": 149,
     "metadata": {},
     "output_type": "execute_result"
    }
   ],
   "source": [
    "solutions, obj_function = local_search_swap_interroute(solutions,obj_function,test_graph)\n",
    "print_routes(solutions)\n",
    "obj_function, objective_function_vector_bf(solutions, test_graph)"
   ]
  },
  {
   "cell_type": "code",
   "execution_count": 150,
   "metadata": {
    "scrolled": true
   },
   "outputs": [
    {
     "name": "stdout",
     "output_type": "stream",
     "text": [
      "[13, 4, 3, 12, 14, 9, 11, 15, 5]\n",
      "[8, 7, 6]\n",
      "[2, 10]\n"
     ]
    },
    {
     "data": {
      "text/plain": [
       "([76, 23, 23], [76, 23, 23])"
      ]
     },
     "execution_count": 150,
     "metadata": {},
     "output_type": "execute_result"
    }
   ],
   "source": [
    "solutions, obj_function = local_search_shift_intraroute(solutions,obj_function,test_graph)\n",
    "print_routes(solutions)\n",
    "obj_function, objective_function_vector_bf(solutions, test_graph)"
   ]
  },
  {
   "cell_type": "code",
   "execution_count": 151,
   "metadata": {},
   "outputs": [
    {
     "name": "stdout",
     "output_type": "stream",
     "text": [
      "[13, 3, 12, 14, 9, 11, 15, 5]\n",
      "[8, 4, 7, 6]\n",
      "[2, 10]\n"
     ]
    },
    {
     "data": {
      "text/plain": [
       "([69, 27, 23], [69, 27, 23])"
      ]
     },
     "execution_count": 151,
     "metadata": {},
     "output_type": "execute_result"
    }
   ],
   "source": [
    "solutions, obj_function = local_search_shift_interroute(solutions,obj_function,test_graph)\n",
    "print_routes(solutions)\n",
    "obj_function, objective_function_vector_bf(solutions, test_graph)"
   ]
  },
  {
   "cell_type": "markdown",
   "metadata": {},
   "source": [
    "#### Check if solutions variable is still the same"
   ]
  },
  {
   "cell_type": "code",
   "execution_count": 158,
   "metadata": {},
   "outputs": [
    {
     "name": "stdout",
     "output_type": "stream",
     "text": [
      "[13, 3, 12, 14, 9, 11, 15, 5]\n",
      "[8, 4, 7, 6]\n",
      "[2, 10]\n"
     ]
    }
   ],
   "source": [
    "print_routes(solutions)"
   ]
  },
  {
   "cell_type": "markdown",
   "metadata": {},
   "source": [
    "## Helper Functions used in this notebook"
   ]
  },
  {
   "cell_type": "code",
   "execution_count": 153,
   "metadata": {},
   "outputs": [],
   "source": [
    "def local_search_two_opt(solution,obj_function,distance_matrix):\n",
    "    sum_OF = sum(obj_function)\n",
    "    sol_copy = solution.copy()\n",
    "    obj_function_copy = obj_function.copy() \n",
    "    amount_of_salesmen = len(solution)\n",
    "    for route_index in range(amount_of_salesmen):\n",
    "        route = sol_copy[route_index]\n",
    "        obj_function_route = obj_function[route_index] \n",
    "        size_of_route = len(route)\n",
    "        if size_of_route > 2:\n",
    "            for point_a in range(size_of_route - 2):\n",
    "                for point_b in range(point_a+2,size_of_route):\n",
    "                    new_sol, new_obj_function = two_opt_intraroute(route,point_a,point_b,obj_function_route,distance_matrix)\n",
    "                    obj_function_copy[route_index] = new_obj_function \n",
    "                    sum_OF_after = sum(obj_function_copy)\n",
    "                    if sum_OF_after < sum_OF:\n",
    "                        sol_copy[route_index] = new_sol\n",
    "                        print_routes(sol_copy)\n",
    "                        return sol_copy, obj_function_copy\n",
    "                    sol_copy = solution.copy()\n",
    "                    obj_function_copy = obj_function.copy()\n",
    "    return solution, obj_function"
   ]
  },
  {
   "cell_type": "code",
   "execution_count": 154,
   "metadata": {},
   "outputs": [],
   "source": [
    "def local_search_swap_intraroute(solution,obj_function,distance_matrix):\n",
    "    sum_OF = sum(obj_function)\n",
    "    sol_copy = solution.copy()\n",
    "    obj_function_copy = obj_function.copy() \n",
    "    amount_of_salesmen = len(solution)\n",
    "    for route_index in range(amount_of_salesmen):\n",
    "        route = sol_copy[route_index]\n",
    "        obj_function_route = obj_function[route_index] \n",
    "        size_of_route = len(route)\n",
    "        if size_of_route > 1:\n",
    "            for point_a in range(size_of_route - 1):\n",
    "                for point_b in range(point_a+1,size_of_route):\n",
    "                    new_sol, new_obj_function = swap_intraroute(route,point_a,point_b,obj_function_route,distance_matrix)\n",
    "                    obj_function_copy[route_index] = new_obj_function \n",
    "                    sum_OF_after = sum(obj_function_copy)\n",
    "                    if sum_OF_after < sum_OF:\n",
    "                        sol_copy[route_index] = new_sol\n",
    "                        #print_routes(sol_copy)\n",
    "                        #print(\"New solution: \", sum_OF_after)\n",
    "                        return sol_copy, obj_function\n",
    "                    sol_copy = solution.copy()\n",
    "                    obj_function_copy = obj_function.copy()\n",
    "    return solution, obj_function"
   ]
  },
  {
   "cell_type": "code",
   "execution_count": 155,
   "metadata": {},
   "outputs": [],
   "source": [
    "def local_search_shift_intraroute(solution,obj_function,distance_matrix):\n",
    "    sum_OF = sum(obj_function)\n",
    "    sol_copy = solution.copy()\n",
    "    obj_function_copy = obj_function.copy() \n",
    "    amount_of_salesmen = len(solution)\n",
    "    for route_index in range(amount_of_salesmen):\n",
    "        route = sol_copy[route_index]\n",
    "        obj_function_route = obj_function[route_index] \n",
    "        size_of_route = len(route)\n",
    "        if size_of_route > 1:\n",
    "            for point_a in range(size_of_route - 1):\n",
    "                for point_b in range(point_a+1,size_of_route):\n",
    "                        # Element > Target obrigatoriamente\n",
    "                        # Move o elemento element para logo antes de target\n",
    "                    new_sol, new_obj_function = shift_intraroute(route,point_b,point_a,obj_function_route,distance_matrix)\n",
    "                    obj_function_copy[route_index] = new_obj_function \n",
    "                    sum_OF_after = sum(obj_function_copy)\n",
    "                    if sum_OF_after < sum_OF:\n",
    "                        sol_copy[route_index] = new_sol\n",
    "                        #print_routes(sol_copy)\n",
    "                        #print(\"New solution: \", sum_OF_after)\n",
    "                        return sol_copy, obj_function\n",
    "                    sol_copy = solution.copy()\n",
    "                    obj_function_copy = obj_function.copy()\n",
    "    return solution, obj_function"
   ]
  },
  {
   "cell_type": "code",
   "execution_count": 156,
   "metadata": {},
   "outputs": [],
   "source": [
    "def local_search_swap_interroute(solution,obj_function,distance_matrix):\n",
    "    sum_OF = sum(obj_function)\n",
    "    sol_copy = solution.copy()\n",
    "    obj_function_copy = obj_function.copy() \n",
    "    amount_of_salesmen = len(solution)\n",
    "    for route_index_a in range(amount_of_salesmen):\n",
    "        for route_index_b in range(route_index_a+1, amount_of_salesmen):\n",
    "            size_of_route_a = len(solution[route_index_a])\n",
    "            size_of_route_b = len(solution[route_index_b])\n",
    "            for point_a in range(size_of_route_a):\n",
    "                for point_b in range(size_of_route_b):\n",
    "                    sol_copy, obj_function_copy = swap_interroute(sol_copy,route_index_a,route_index_b,point_a,point_b,obj_function_copy,distance_matrix)\n",
    "        # swap_interroute(solutions,first_sol_index,second_sol_index,first_element_index,second_element_index,obj_function_vector,distance_matrix)\n",
    "                    sum_OF_after = sum(obj_function_copy)\n",
    "                    if sum_OF_after < sum_OF:\n",
    "                        #print(route_index_a,route_index_b,point_a,point_b)\n",
    "                        #print_routes(sol_copy)\n",
    "                        #print(\"New solution: \", sum_OF_after)\n",
    "                        return sol_copy, obj_function\n",
    "                    sol_copy = solution.copy()\n",
    "                    obj_function_copy = obj_function.copy()\n",
    "    return solution, obj_function"
   ]
  },
  {
   "cell_type": "code",
   "execution_count": 157,
   "metadata": {},
   "outputs": [],
   "source": [
    "def local_search_shift_interroute(solution,obj_function,distance_matrix):\n",
    "    sum_OF = sum(obj_function)\n",
    "    sol_copy = solution.copy()\n",
    "    obj_function_copy = obj_function.copy() \n",
    "    amount_of_salesmen = len(solution)\n",
    "    \n",
    "    # Ordem direta de pesquisa (do menor para o maior índice)\n",
    "    for route_index_a in range(amount_of_salesmen):\n",
    "        for route_index_b in range(route_index_a+1, amount_of_salesmen):\n",
    "            #print(\"******Now comparing routes %d and %d\" % (route_index_a, route_index_b))\n",
    "            size_of_route_a = len(solution[route_index_a])\n",
    "            size_of_route_b = len(solution[route_index_b])\n",
    "            if size_of_route_a > 2:\n",
    "                for point_a in range(size_of_route_a):\n",
    "                    for point_b in range(size_of_route_b):\n",
    "                        sol_copy, obj_function_copy = shift_interroute(sol_copy,route_index_a,route_index_b,point_a,point_b,obj_function_copy,distance_matrix)\n",
    "    # shift_interroute(solutions,first_sol_index,second_sol_index,first_element_index,second_element_index,obj_function_vector,distance_matrix)\n",
    "    # Na função, o shift realoca o elemento da primeira solução (first_sol) à segunda (second_sol) na posição second_element_index\n",
    "                        sum_OF_after = sum(obj_function_copy)\n",
    "            \n",
    "                        if sum_OF_after < sum_OF:\n",
    "                            #print(route_index_a,route_index_b,point_a,point_b)\n",
    "                            #print_routes(sol_copy)\n",
    "                            #print(\"New solution: \", sum_OF_after)\n",
    "                            return sol_copy, obj_function\n",
    "                        sol_copy = solution.copy()\n",
    "                        obj_function_copy = obj_function.copy()\n",
    "\n",
    "    # Ordem inversa de pesquisa (do maior para o menor índice)\n",
    "    for route_index_a in reversed(range(amount_of_salesmen)):\n",
    "        for route_index_b in reversed(range(route_index_a)):\n",
    "            #print(\"******Now comparing routes %d and %d\" % (route_index_a, route_index_b))\n",
    "            size_of_route_a = len(solution[route_index_a])\n",
    "            size_of_route_b = len(solution[route_index_b])\n",
    "            if size_of_route_a > 1:\n",
    "                for point_a in range(size_of_route_a):\n",
    "                    for point_b in range(size_of_route_b):\n",
    "                        sol_copy, obj_function_copy = shift_interroute(sol_copy,route_index_a,route_index_b,point_a,point_b,obj_function_copy,distance_matrix)\n",
    "    # shift_interroute(solutions,first_sol_index,second_sol_index,first_element_index,second_element_index,obj_function_vector,distance_matrix)\n",
    "                        sum_OF_after = sum(obj_function_copy)\n",
    "            \n",
    "                        if sum_OF_after < sum_OF:\n",
    "                            #print(route_index_a,route_index_b,point_a,point_b)\n",
    "                            #print_routes(sol_copy)\n",
    "                            #print(\"New solution: \", sum_OF_after)\n",
    "                            return sol_copy, obj_function\n",
    "                        sol_copy = solution.copy()\n",
    "                        obj_function_copy = obj_function.copy()\n",
    "    return solution, obj_function"
   ]
  }
 ],
 "metadata": {
  "interpreter": {
   "hash": "f9bc4b652b848242f69209cd0080417b2688107fd8dbea54d7ab4af63d585dd8"
  },
  "kernelspec": {
   "display_name": "Python 3.8.3 32-bit",
   "language": "python",
   "name": "python3"
  },
  "language_info": {
   "codemirror_mode": {
    "name": "ipython",
    "version": 3
   },
   "file_extension": ".py",
   "mimetype": "text/x-python",
   "name": "python",
   "nbconvert_exporter": "python",
   "pygments_lexer": "ipython3",
   "version": "3.8.3"
  }
 },
 "nbformat": 4,
 "nbformat_minor": 2
}
